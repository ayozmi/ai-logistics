{
 "cells": [
  {
   "cell_type": "markdown",
   "metadata": {},
   "source": [
    "*1_Problem_Statement.ipynb (this file)*\n",
    "\n",
    "## Problem statement (AI-Software Overall Hypothesis)\n",
    "\n",
    "**By analyzing a combination of supply chain dynamics, shipping times, carriers, supplier locations, production volumes, routes, and shipped product features, and providing supply chain teams with a chatbot for easy real-time tracking of shipments, along with an integrated tool to stay up-to-date with relevant news from various webpages, we can predict transportation costs and enhance decision-making towards supply chain expense management while keeping operations aligned with the latest industry standards and insights.**"
   ]
  }
 ],
 "metadata": {
  "language_info": {
   "name": "python"
  }
 },
 "nbformat": 4,
 "nbformat_minor": 2
}
