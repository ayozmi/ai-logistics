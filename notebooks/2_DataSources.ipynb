{
 "cells": [
  {
   "cell_type": "markdown",
   "metadata": {},
   "source": [
    "## Data Sources Overview and Feature Definition\n",
    "\n",
    "In this section, we will define and detail the data sources utilized for each specific feature of the AI-driven software solution tailored for supply chain optimization."
   ]
  },
  {
   "cell_type": "markdown",
   "metadata": {},
   "source": [
    "1.- **Supply Chain Public Dataset (Kaggle) Enhanced with Supply Chain Data**\n",
    "\n",
    "We are leveraging a dataset specifically tailored for supply chain analysis, available on [Kaggle](https://www.kaggle.com/datasets/harshsingh2209/supply-chain-analysis/download?datasetVersionNumber=1). This dataset provides a solid foundation for developing our predictive pricing model. The dataset's close alignment with the client's actual data makes it an ideal choice for this stage. As we progress, we plan to conduct further tests and integrate ETL (Extract, Transform, Load) processes with the client's databases, contingent upon obtaining the required data access permissions.\n",
    "\n",
    "With this data, we plan to implement a feature that focuses on predictive price modeling. This feature will identify cargo and shipments likely to incur higher costs and establish an alert system. Accessible directly through our software, this system will inform users about which shipments require closer attention or allow them to select a specific shipment to predict its price."
   ]
  },
  {
   "cell_type": "markdown",
   "metadata": {},
   "source": [
    "---"
   ]
  },
  {
   "cell_type": "markdown",
   "metadata": {},
   "source": [
    "2.- **Client's Operations DDBB (AWS RDS - MySQL Instance)**\n",
    "\n",
    "...\n",
    "With this data, we plan to integrate a feature for real-time shipment tracking accesible from instant messaging applications for convenience, etc. ...\n",
    "..."
   ]
  },
  {
   "cell_type": "markdown",
   "metadata": {},
   "source": [
    "---"
   ]
  },
  {
   "cell_type": "markdown",
   "metadata": {},
   "source": [
    "3.- **Real-Time Supply Chain and Logistic News (Web Scrapping)**\n",
    "\n",
    "We are aggregating news from three primary sources in the air and maritime transport sectors. This initiative enables us to gather critical information for decision-making processes and enhances our understanding of current industry dynamics.\n",
    "\n",
    "- [Air Cargo News](https://www.aircargonews.net/)\n",
    "- [Maritime Logistics Professional](https://www.maritimelogisticsprofessional.com)\n",
    "- [Seatrade Maritime](https://www.seatrade-maritime.com/)\n",
    "\n",
    "The primary data extracted from these websites include news titles, text and a link to the full article, categorized into 'Global News' and 'LATAM News' to cater to user preferences.\n",
    "\n",
    "With this data, we are developing a reporting feature that transforms the responsiveness and strategic decision-making capabilities of supply chain managers. The tool leverages NLP and AI to provide predictive insights into disruptions in maritime and air logistics. Users can interact with it in several ways:\n",
    "\n",
    "- Choose the mode of transport: '🚢 Maritime' or '✈️ Air'\n",
    "- Select the geographical focus: '🌐 Global' or '🌎 South America'\n",
    "- Specify the type of news: 'Regulation', 'Issues', 'Supply Chain', etc.\n",
    "- Set the number of news articles to display, from 1 to 10\n",
    "\n",
    "**Hugging Face Model Integration:**\n",
    "Using a Hugging Face BERT model, the feture categorizes news and offers three daily recommendations ('Risks', 'Opportunities', and 'General').\n",
    "\n",
    "**Premium Option:**\n",
    "The premium layer of the feature provides:\n",
    "- Translated summaries of news articles in Spanish\n",
    "- Concise key point summaries for a business audience, limited to 350 characters\n",
    "- In-depth analysis of the article's impact on maritime logistics, port operations, and supply chain management, specifically focusing on Latin America, labeled 'Impacto en LATAM', limited to 500 characters."
   ]
  }
 ],
 "metadata": {
  "language_info": {
   "name": "python"
  }
 },
 "nbformat": 4,
 "nbformat_minor": 2
}
