{
 "cells": [
  {
   "cell_type": "code",
   "execution_count": 18,
   "metadata": {},
   "outputs": [
    {
     "name": "stdout",
     "output_type": "stream",
     "text": [
      "Classification: risks\n"
     ]
    }
   ],
   "source": [
    "import torch\n",
    "import joblib\n",
    "from sklearn.preprocessing import LabelEncoder\n",
    "from transformers import AutoModelForSequenceClassification, AutoTokenizer\n",
    "\n",
    "# Function to classify text\n",
    "def classify_text(input_text, cls_model, tokenizer_cls, label_encoder, device):\n",
    "    # Tokenize the input text\n",
    "    inputs_cls = tokenizer_cls(input_text, return_tensors=\"pt\", max_length=512, truncation=True)\n",
    "    inputs_cls = {key: value.to(device) for key, value in inputs_cls.items()}\n",
    "    \n",
    "    # Move cls_model to the specified device\n",
    "    cls_model = cls_model.to(device)\n",
    "\n",
    "    # Perform classification\n",
    "    outputs_cls = cls_model(**inputs_cls)\n",
    "    logits_cls = outputs_cls.logits\n",
    "    predicted_class = torch.argmax(logits_cls, dim=1).item()\n",
    "    \n",
    "    # Decode the predicted class index into the label string\n",
    "    classification = label_encoder.inverse_transform([predicted_class])[0]\n",
    "    \n",
    "    return classification\n",
    "\n",
    "# Load the models and tokenizer\n",
    "path_to_bert_model = '../models/bert_risk/'\n",
    "cls_model = AutoModelForSequenceClassification.from_pretrained(path_to_bert_model)\n",
    "tokenizer_cls = AutoTokenizer.from_pretrained(path_to_bert_model)\n",
    "\n",
    "label_column_values = [\"risks\", \"opportunities\", \"neither\"]\n",
    "label_encoder = LabelEncoder()\n",
    "label_encoder.fit(label_column_values)\n",
    "# Save the fitted LabelEncoder for future use\n",
    "joblib.dump(label_encoder, f'{path_to_bert_model}/encoder_labels.pkl')\n",
    "\n",
    "# Set the device (GPU or CPU)\n",
    "device = torch.device(\"cuda\" if torch.cuda.is_available() else \"cpu\")\n",
    "\n",
    "# Example usage\n",
    "input_text = \"Your example text goes here\"\n",
    "classification = classify_text(input_text, cls_model, tokenizer_cls, label_encoder, device)\n",
    "print(f'Classification: {classification}')\n"
   ]
  }
 ],
 "metadata": {
  "kernelspec": {
   "display_name": "python-dsf",
   "language": "python",
   "name": "python3"
  },
  "language_info": {
   "codemirror_mode": {
    "name": "ipython",
    "version": 3
   },
   "file_extension": ".py",
   "mimetype": "text/x-python",
   "name": "python",
   "nbconvert_exporter": "python",
   "pygments_lexer": "ipython3",
   "version": "3.11.4"
  }
 },
 "nbformat": 4,
 "nbformat_minor": 2
}
