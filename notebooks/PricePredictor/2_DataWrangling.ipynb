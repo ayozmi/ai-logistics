{
 "cells": [
  {
   "cell_type": "markdown",
   "metadata": {},
   "source": [
    "# 2_DataWrangling: Price Predictor"
   ]
  },
  {
   "cell_type": "code",
   "execution_count": 1,
   "metadata": {},
   "outputs": [],
   "source": [
    "# Import for data wrangling\n",
    "import pandas as pd"
   ]
  },
  {
   "cell_type": "markdown",
   "metadata": {},
   "source": [
    "## Loading Data\n",
    "\n",
    "1. Loading files\n",
    "2. Concatenating into a single file\n",
    "3. Basic data exploration"
   ]
  },
  {
   "cell_type": "code",
   "execution_count": 22,
   "metadata": {},
   "outputs": [],
   "source": [
    "# Read each file separately\n",
    "df1 = pd.read_csv('../../data/price_predictor/raw/Sample_Product_Data_Batch_1.csv')\n",
    "df2 = pd.read_csv('../../data/price_predictor/raw/Sample_Product_Data_Batch_2.csv')\n",
    "df3 = pd.read_csv('../../data/price_predictor/raw/Sample_Product_Data_Batch_3.csv')\n",
    "df4 = pd.read_csv('../../data/price_predictor/raw/Sample_Product_Data_Batch_4.csv')\n",
    "\n",
    "# Concatenate dataframes\n",
    "supply_ch_df_raw = pd.concat([df1, df2, df3, df4], ignore_index=True)\n",
    "\n",
    "# Save the concatenated raw dataframe\n",
    "supply_ch_df_raw.to_csv('../../data/price_predictor/raw/Sample_Product_Data_Concat.csv', index=False)"
   ]
  },
  {
   "cell_type": "markdown",
   "metadata": {},
   "source": [
    "---"
   ]
  },
  {
   "cell_type": "markdown",
   "metadata": {},
   "source": [
    "#### Dataset initial inspection"
   ]
  },
  {
   "cell_type": "code",
   "execution_count": 23,
   "metadata": {},
   "outputs": [
    {
     "data": {
      "text/html": [
       "<div>\n",
       "<style scoped>\n",
       "    .dataframe tbody tr th:only-of-type {\n",
       "        vertical-align: middle;\n",
       "    }\n",
       "\n",
       "    .dataframe tbody tr th {\n",
       "        vertical-align: top;\n",
       "    }\n",
       "\n",
       "    .dataframe thead th {\n",
       "        text-align: right;\n",
       "    }\n",
       "</style>\n",
       "<table border=\"1\" class=\"dataframe\">\n",
       "  <thead>\n",
       "    <tr style=\"text-align: right;\">\n",
       "      <th></th>\n",
       "      <th>Product type</th>\n",
       "      <th>SKU</th>\n",
       "      <th>Price</th>\n",
       "      <th>Availability</th>\n",
       "      <th>Number of products sold</th>\n",
       "      <th>Revenue generated</th>\n",
       "      <th>Customer demographics</th>\n",
       "      <th>Stock levels</th>\n",
       "      <th>Lead times</th>\n",
       "      <th>Order quantities</th>\n",
       "      <th>...</th>\n",
       "      <th>Location</th>\n",
       "      <th>Lead time</th>\n",
       "      <th>Production volumes</th>\n",
       "      <th>Manufacturing lead time</th>\n",
       "      <th>Manufacturing costs</th>\n",
       "      <th>Inspection results</th>\n",
       "      <th>Defect rates</th>\n",
       "      <th>Transportation modes</th>\n",
       "      <th>Routes</th>\n",
       "      <th>Costs</th>\n",
       "    </tr>\n",
       "  </thead>\n",
       "  <tbody>\n",
       "    <tr>\n",
       "      <th>0</th>\n",
       "      <td>cosmetics</td>\n",
       "      <td>062000005</td>\n",
       "      <td>4.35</td>\n",
       "      <td>98.0</td>\n",
       "      <td>216.0</td>\n",
       "      <td>$5513.64</td>\n",
       "      <td>NaN</td>\n",
       "      <td>28.0</td>\n",
       "      <td>5.0</td>\n",
       "      <td>16.0</td>\n",
       "      <td>...</td>\n",
       "      <td>Kolkata</td>\n",
       "      <td>28.0</td>\n",
       "      <td>406.0</td>\n",
       "      <td>9.0</td>\n",
       "      <td>$98.49</td>\n",
       "      <td>Fail</td>\n",
       "      <td>3.27</td>\n",
       "      <td>Rail</td>\n",
       "      <td>A route</td>\n",
       "      <td>329.95</td>\n",
       "    </tr>\n",
       "    <tr>\n",
       "      <th>1</th>\n",
       "      <td>cosmetics</td>\n",
       "      <td>062000004</td>\n",
       "      <td>31.84</td>\n",
       "      <td>11.0</td>\n",
       "      <td>407.0</td>\n",
       "      <td>$1638.02</td>\n",
       "      <td>Unknown</td>\n",
       "      <td>41.0</td>\n",
       "      <td>7.0</td>\n",
       "      <td>59.0</td>\n",
       "      <td>...</td>\n",
       "      <td>NaN</td>\n",
       "      <td>6.0</td>\n",
       "      <td>599.0</td>\n",
       "      <td>15.0</td>\n",
       "      <td>$67.15</td>\n",
       "      <td>Fail</td>\n",
       "      <td>0.52</td>\n",
       "      <td>Rail</td>\n",
       "      <td>c</td>\n",
       "      <td>NaN</td>\n",
       "    </tr>\n",
       "    <tr>\n",
       "      <th>2</th>\n",
       "      <td>haircare</td>\n",
       "      <td>062000002</td>\n",
       "      <td>78.27</td>\n",
       "      <td>10.0</td>\n",
       "      <td>399.0</td>\n",
       "      <td>NaN</td>\n",
       "      <td>Male</td>\n",
       "      <td>66.0</td>\n",
       "      <td>26.0</td>\n",
       "      <td>81.0</td>\n",
       "      <td>...</td>\n",
       "      <td>Bangalore</td>\n",
       "      <td>12.0</td>\n",
       "      <td>721.0</td>\n",
       "      <td>28.0</td>\n",
       "      <td>$49.86</td>\n",
       "      <td>NaN</td>\n",
       "      <td>1.27</td>\n",
       "      <td>Road</td>\n",
       "      <td>a</td>\n",
       "      <td>996.28</td>\n",
       "    </tr>\n",
       "    <tr>\n",
       "      <th>3</th>\n",
       "      <td>haircare</td>\n",
       "      <td>062000003</td>\n",
       "      <td>NaN</td>\n",
       "      <td>15.0</td>\n",
       "      <td>923.0</td>\n",
       "      <td>$9417.67</td>\n",
       "      <td>Non-binary</td>\n",
       "      <td>25.0</td>\n",
       "      <td>26.0</td>\n",
       "      <td>NaN</td>\n",
       "      <td>...</td>\n",
       "      <td>Bangalore</td>\n",
       "      <td>11.0</td>\n",
       "      <td>NaN</td>\n",
       "      <td>12.0</td>\n",
       "      <td>$54.2</td>\n",
       "      <td>Fail</td>\n",
       "      <td>NaN</td>\n",
       "      <td>Sea</td>\n",
       "      <td>C route</td>\n",
       "      <td>817.38</td>\n",
       "    </tr>\n",
       "    <tr>\n",
       "      <th>4</th>\n",
       "      <td>cosmetics</td>\n",
       "      <td>062000007</td>\n",
       "      <td>22.79</td>\n",
       "      <td>17.0</td>\n",
       "      <td>715.0</td>\n",
       "      <td>$8656.12</td>\n",
       "      <td>Non-binary</td>\n",
       "      <td>58.0</td>\n",
       "      <td>24.0</td>\n",
       "      <td>79.0</td>\n",
       "      <td>...</td>\n",
       "      <td>Kolkata</td>\n",
       "      <td>16.0</td>\n",
       "      <td>168.0</td>\n",
       "      <td>21.0</td>\n",
       "      <td>$71.42</td>\n",
       "      <td>Pending</td>\n",
       "      <td>3.35</td>\n",
       "      <td>Rail</td>\n",
       "      <td>b</td>\n",
       "      <td>407.65</td>\n",
       "    </tr>\n",
       "  </tbody>\n",
       "</table>\n",
       "<p>5 rows × 24 columns</p>\n",
       "</div>"
      ],
      "text/plain": [
       "  Product type        SKU  Price  Availability  Number of products sold  \\\n",
       "0    cosmetics  062000005   4.35          98.0                    216.0   \n",
       "1    cosmetics  062000004  31.84          11.0                    407.0   \n",
       "2     haircare  062000002  78.27          10.0                    399.0   \n",
       "3     haircare  062000003    NaN          15.0                    923.0   \n",
       "4    cosmetics  062000007  22.79          17.0                    715.0   \n",
       "\n",
       "  Revenue generated Customer demographics  Stock levels  Lead times  \\\n",
       "0          $5513.64                   NaN          28.0         5.0   \n",
       "1          $1638.02               Unknown          41.0         7.0   \n",
       "2               NaN                  Male          66.0        26.0   \n",
       "3          $9417.67            Non-binary          25.0        26.0   \n",
       "4          $8656.12            Non-binary          58.0        24.0   \n",
       "\n",
       "   Order quantities  ...   Location Lead time Production volumes  \\\n",
       "0              16.0  ...    Kolkata      28.0              406.0   \n",
       "1              59.0  ...        NaN       6.0              599.0   \n",
       "2              81.0  ...  Bangalore      12.0              721.0   \n",
       "3               NaN  ...  Bangalore      11.0                NaN   \n",
       "4              79.0  ...    Kolkata      16.0              168.0   \n",
       "\n",
       "  Manufacturing lead time Manufacturing costs  Inspection results  \\\n",
       "0                     9.0              $98.49                Fail   \n",
       "1                    15.0              $67.15                Fail   \n",
       "2                    28.0              $49.86                 NaN   \n",
       "3                    12.0               $54.2                Fail   \n",
       "4                    21.0              $71.42             Pending   \n",
       "\n",
       "   Defect rates  Transportation modes   Routes   Costs  \n",
       "0          3.27                  Rail  A route  329.95  \n",
       "1          0.52                  Rail        c     NaN  \n",
       "2          1.27                  Road        a  996.28  \n",
       "3           NaN                   Sea  C route  817.38  \n",
       "4          3.35                  Rail        b  407.65  \n",
       "\n",
       "[5 rows x 24 columns]"
      ]
     },
     "execution_count": 23,
     "metadata": {},
     "output_type": "execute_result"
    }
   ],
   "source": [
    "# Data glance\n",
    "supply_ch_df_raw.head()"
   ]
  },
  {
   "cell_type": "code",
   "execution_count": 24,
   "metadata": {},
   "outputs": [
    {
     "name": "stdout",
     "output_type": "stream",
     "text": [
      "<class 'pandas.core.frame.DataFrame'>\n",
      "RangeIndex: 10000 entries, 0 to 9999\n",
      "Data columns (total 24 columns):\n",
      " #   Column                   Non-Null Count  Dtype  \n",
      "---  ------                   --------------  -----  \n",
      " 0   Product type             9170 non-null   object \n",
      " 1   SKU                      10000 non-null  object \n",
      " 2   Price                    9470 non-null   float64\n",
      " 3   Availability             9230 non-null   float64\n",
      " 4   Number of products sold  9150 non-null   float64\n",
      " 5   Revenue generated        9250 non-null   object \n",
      " 6   Customer demographics    9330 non-null   object \n",
      " 7   Stock levels             9450 non-null   float64\n",
      " 8   Lead times               9310 non-null   float64\n",
      " 9   Order quantities         9430 non-null   float64\n",
      " 10  Shipping times           9110 non-null   float64\n",
      " 11  Shipping carriers        9260 non-null   object \n",
      " 12  Shipping costs           9160 non-null   object \n",
      " 13  Supplier name            9080 non-null   object \n",
      " 14  Location                 9280 non-null   object \n",
      " 15  Lead time                9050 non-null   float64\n",
      " 16  Production volumes       9300 non-null   float64\n",
      " 17  Manufacturing lead time  9430 non-null   float64\n",
      " 18  Manufacturing costs      9320 non-null   object \n",
      " 19  Inspection results       9370 non-null   object \n",
      " 20  Defect rates             9410 non-null   float64\n",
      " 21  Transportation modes     9080 non-null   object \n",
      " 22  Routes                   9160 non-null   object \n",
      " 23  Costs                    9410 non-null   float64\n",
      "dtypes: float64(12), object(12)\n",
      "memory usage: 1.8+ MB\n"
     ]
    }
   ],
   "source": [
    "# Data info\n",
    "supply_ch_df_raw.info()"
   ]
  },
  {
   "cell_type": "markdown",
   "metadata": {},
   "source": [
    "---"
   ]
  },
  {
   "cell_type": "markdown",
   "metadata": {},
   "source": [
    "#### Dataset unique values"
   ]
  },
  {
   "cell_type": "code",
   "execution_count": 25,
   "metadata": {},
   "outputs": [
    {
     "data": {
      "text/plain": [
       "Product type                   3\n",
       "SKU                        10000\n",
       "Price                       6106\n",
       "Availability                  99\n",
       "Number of products sold      999\n",
       "Revenue generated           9205\n",
       "Customer demographics          4\n",
       "Stock levels                  99\n",
       "Lead times                    29\n",
       "Order quantities              99\n",
       "Shipping times                 9\n",
       "Shipping carriers              3\n",
       "Shipping costs               901\n",
       "Supplier name                  5\n",
       "Location                       5\n",
       "Lead time                     29\n",
       "Production volumes           900\n",
       "Manufacturing lead time       29\n",
       "Manufacturing costs         5798\n",
       "Inspection results             3\n",
       "Defect rates                 501\n",
       "Transportation modes           4\n",
       "Routes                        15\n",
       "Costs                       8920\n",
       "dtype: int64"
      ]
     },
     "execution_count": 25,
     "metadata": {},
     "output_type": "execute_result"
    }
   ],
   "source": [
    "# Number of unique values per column\n",
    "supply_ch_df_raw.nunique()"
   ]
  },
  {
   "cell_type": "code",
   "execution_count": 26,
   "metadata": {},
   "outputs": [
    {
     "name": "stdout",
     "output_type": "stream",
     "text": [
      "Unique values in 'Product type'\n",
      ": ['cosmetics' 'haircare' 'skincare' nan]\n",
      "\n",
      "Unique values in 'Availability'\n",
      ": [98. 11. 10. 15. 17. 40. 18. 55. nan 25. 78. 89. 22. 30. 84. 85. 44. 32.\n",
      " 51. 46. 21. 99. 94. 39. 12. 47. 13.  8.  7. 23. 96. 75. 86. 92. 29.  2.\n",
      " 79. 52. 27. 50. 95. 88. 77. 43. 37. 61. 97. 56.  3. 63. 19. 58. 16. 72.\n",
      "  1.  5. 65.  4. 64. 91. 41.  9. 36. 90. 54. 81. 14. 34. 53. 20. 70. 83.\n",
      " 24. 74. 38. 57. 45. 71. 93. 82. 31. 60. 49. 76. 48. 33. 69. 26. 35. 80.\n",
      " 73. 68. 42. 87. 28. 66. 59.  6. 62. 67.]\n",
      "\n",
      "Unique values in 'Customer demographics'\n",
      ": [nan 'Unknown' 'Male' 'Non-binary' 'Female']\n",
      "\n",
      "Unique values in 'Stock levels'\n",
      ": [28. 41. 66. 25. 58.  6. 75. 38. 45. 14. 40.  3. 99. 97. nan 19. 18. 64.\n",
      " 88. 35. 62.  1. 49. 98. 89. 16. 93. 23. 83. 54. 73. 42. 34. 80. 55. 21.\n",
      " 70. 96. 48. 39. 31. 10. 30. 60. 15.  4. 63.  9. 26. 81. 52. 69.  5. 20.\n",
      " 79.  2. 13. 74. 61. 95.  8. 67. 94. 11. 36. 12. 37. 71. 56. 85. 29. 78.\n",
      " 90. 92. 82. 84. 86. 59. 68.  7. 51. 72. 17. 77. 27. 24. 87. 46. 91. 44.\n",
      " 33. 50. 47. 32. 22. 43. 65. 76. 57. 53.]\n",
      "\n",
      "Unique values in 'Lead times'\n",
      ": [ 5.  7. 26. 24. 12. 16. 23.  8. 28.  9. 15. 13. 11. 10. 20. 21. 14. 18.\n",
      " nan  3.  4.  6.  1. 29. 17. 27. 25. 22.  2. 19.]\n",
      "\n",
      "Unique values in 'Order quantities'\n",
      ": [16. 59. 81. nan 79. 15. 98. 11. 65. 90. 68. 43. 69. 99. 13. 10. 75. 82.\n",
      " 41. 50. 87. 71. 39.  3. 76.  7. 49. 26. 48.  2. 32.  4. 20. 28. 77.  1.\n",
      " 60. 56. 35. 30. 54. 36. 89. 80. 58. 83. 51. 22. 88. 53. 52. 18. 66. 21.\n",
      " 47. 29. 85. 17. 31. 73. 95. 78. 14. 97. 84. 12.  5. 74. 45.  9. 33. 62.\n",
      " 57. 25.  6. 42. 93. 44. 64. 92. 37.  8. 67. 46. 55. 61. 96. 34. 70. 24.\n",
      " 94. 19. 72. 27. 40. 23. 38. 91. 63. 86.]\n",
      "\n",
      "Unique values in 'Shipping times'\n",
      ": [ 6.  7.  4.  8.  1.  9.  2. nan  5.  3.]\n",
      "\n",
      "Unique values in 'Shipping carriers'\n",
      ": ['Carrier C' 'Carrier B' 'Carrier A' nan]\n",
      "\n",
      "Unique values in 'Supplier name'\n",
      ": ['Supplier 1' 'Supplier 5' nan 'Supplier 3' 'Supplier 4' 'Supplier 2']\n",
      "\n",
      "Unique values in 'Location'\n",
      ": ['Kolkata' nan 'Bangalore' 'Chennai' 'Mumbai' 'Delhi']\n",
      "\n",
      "Unique values in 'Lead time'\n",
      ": [28.  6. 12. 11. 16. 20. 17.  9.  1. 26.  3. 21. 23. 22. 19. 13. 14. 27.\n",
      " nan  4.  2. 18.  8. 15. 24.  7.  5. 10. 25. 29.]\n",
      "\n",
      "Unique values in 'Manufacturing lead time'\n",
      ": [ 9. 15. 28. 12. 21. 27. 26. 14. nan  6. 19.  4. 17.  3. 29. 13.  1. 25.\n",
      " 16. 18.  2. 22. 23.  8. 20.  7.  5. 24. 11. 10.]\n",
      "\n",
      "Unique values in 'Inspection results'\n",
      ": ['Fail' nan 'Pending' 'Pass']\n",
      "\n",
      "Unique values in 'Transportation modes'\n",
      ": ['Rail' 'Road' 'Sea' 'Air' nan]\n",
      "\n",
      "Unique values in 'Routes'\n",
      ": ['A route' 'c' 'a' 'C route' 'b' 'route_C' 'A' 'C' 'route_A' 'route_B' nan\n",
      " 'routeB' 'routeC' 'B route' 'B' 'routeA']\n",
      "\n"
     ]
    }
   ],
   "source": [
    "# List of columns to get unique values for\n",
    "columns_to_check = [\n",
    "    'Product type', 'Availability', 'Customer demographics', 'Stock levels', 'Lead times', \n",
    "    'Order quantities', 'Shipping times', 'Shipping carriers', 'Supplier name', 'Location', \n",
    "    'Lead time', 'Manufacturing lead time', 'Inspection results', 'Transportation modes', 'Routes'\n",
    "]\n",
    "\n",
    "# Iterate over the columns and print unique values\n",
    "for column in columns_to_check:\n",
    "    unique_values = supply_ch_df_raw[column].unique()\n",
    "    print(f\"Unique values in '{column}'\\n: {unique_values}\\n\")"
   ]
  },
  {
   "cell_type": "markdown",
   "metadata": {},
   "source": [
    "This unique values validation gives us an idea that there may not be any repeated columns since the SKUs (shipments IDs) are unique in all records."
   ]
  },
  {
   "cell_type": "markdown",
   "metadata": {},
   "source": [
    "---"
   ]
  },
  {
   "cell_type": "markdown",
   "metadata": {},
   "source": [
    "### Dataset missing missing values"
   ]
  },
  {
   "cell_type": "code",
   "execution_count": 27,
   "metadata": {},
   "outputs": [
    {
     "name": "stdout",
     "output_type": "stream",
     "text": [
      "\n",
      "Missing values in each column:\n"
     ]
    },
    {
     "data": {
      "text/plain": [
       "Product type               830\n",
       "SKU                          0\n",
       "Price                      530\n",
       "Availability               770\n",
       "Number of products sold    850\n",
       "Revenue generated          750\n",
       "Customer demographics      670\n",
       "Stock levels               550\n",
       "Lead times                 690\n",
       "Order quantities           570\n",
       "Shipping times             890\n",
       "Shipping carriers          740\n",
       "Shipping costs             840\n",
       "Supplier name              920\n",
       "Location                   720\n",
       "Lead time                  950\n",
       "Production volumes         700\n",
       "Manufacturing lead time    570\n",
       "Manufacturing costs        680\n",
       "Inspection results         630\n",
       "Defect rates               590\n",
       "Transportation modes       920\n",
       "Routes                     840\n",
       "Costs                      590\n",
       "dtype: int64"
      ]
     },
     "metadata": {},
     "output_type": "display_data"
    }
   ],
   "source": [
    "# Checking missing value count in each column\n",
    "print(\"\\nMissing values in each column:\")\n",
    "missing_values = supply_ch_df_raw.isnull().sum()\n",
    "display(missing_values)"
   ]
  },
  {
   "cell_type": "code",
   "execution_count": 28,
   "metadata": {},
   "outputs": [
    {
     "name": "stdout",
     "output_type": "stream",
     "text": [
      "Percentage of null values per column:\n",
      " Product type               8.3\n",
      "SKU                        0.0\n",
      "Price                      5.3\n",
      "Availability               7.7\n",
      "Number of products sold    8.5\n",
      "Revenue generated          7.5\n",
      "Customer demographics      6.7\n",
      "Stock levels               5.5\n",
      "Lead times                 6.9\n",
      "Order quantities           5.7\n",
      "Shipping times             8.9\n",
      "Shipping carriers          7.4\n",
      "Shipping costs             8.4\n",
      "Supplier name              9.2\n",
      "Location                   7.2\n",
      "Lead time                  9.5\n",
      "Production volumes         7.0\n",
      "Manufacturing lead time    5.7\n",
      "Manufacturing costs        6.8\n",
      "Inspection results         6.3\n",
      "Defect rates               5.9\n",
      "Transportation modes       9.2\n",
      "Routes                     8.4\n",
      "Costs                      5.9\n",
      "dtype: float64\n",
      "Overall percentage of null values: 6.995833333333333%\n",
      "Number of empty rows: 0\n"
     ]
    }
   ],
   "source": [
    "# Calculate the percentage of null values for each column\n",
    "null_percentage_per_column = supply_ch_df_raw.isnull().mean() * 100\n",
    "print(\"Percentage of null values per column:\\n\", null_percentage_per_column)\n",
    "\n",
    "# Calculate the overall percentage of null values in the entire dataset\n",
    "total_null_values = supply_ch_df_raw.isnull().sum().sum()\n",
    "total_values = supply_ch_df_raw.size\n",
    "overall_null_percentage = (total_null_values / total_values) * 100\n",
    "print(f'Overall percentage of null values: {overall_null_percentage}%')\n",
    "\n",
    "# Check for empty rows\n",
    "rows_with_null = sum(supply_ch_df_raw.isnull().all(axis=1))\n",
    "print(f'Number of empty rows: {rows_with_null}')\n"
   ]
  },
  {
   "cell_type": "markdown",
   "metadata": {},
   "source": [
    "---"
   ]
  },
  {
   "cell_type": "markdown",
   "metadata": {},
   "source": [
    "### Handling Missing values"
   ]
  },
  {
   "cell_type": "markdown",
   "metadata": {},
   "source": [
    "**DW-1: Dropping null values**\n",
    "\n",
    "Given that the percentage of null values in the dataset is less than 7% overall, we will drop those rows with null values for the data cleaning"
   ]
  },
  {
   "cell_type": "code",
   "execution_count": 29,
   "metadata": {},
   "outputs": [],
   "source": [
    "# Dropping rows with null values\n",
    "supply_ch_df_cleaned = supply_ch_df_raw.dropna()"
   ]
  },
  {
   "cell_type": "code",
   "execution_count": 30,
   "metadata": {},
   "outputs": [
    {
     "data": {
      "text/html": [
       "<div>\n",
       "<style scoped>\n",
       "    .dataframe tbody tr th:only-of-type {\n",
       "        vertical-align: middle;\n",
       "    }\n",
       "\n",
       "    .dataframe tbody tr th {\n",
       "        vertical-align: top;\n",
       "    }\n",
       "\n",
       "    .dataframe thead th {\n",
       "        text-align: right;\n",
       "    }\n",
       "</style>\n",
       "<table border=\"1\" class=\"dataframe\">\n",
       "  <thead>\n",
       "    <tr style=\"text-align: right;\">\n",
       "      <th></th>\n",
       "      <th>Product type</th>\n",
       "      <th>SKU</th>\n",
       "      <th>Price</th>\n",
       "      <th>Availability</th>\n",
       "      <th>Number of products sold</th>\n",
       "      <th>Revenue generated</th>\n",
       "      <th>Customer demographics</th>\n",
       "      <th>Stock levels</th>\n",
       "      <th>Lead times</th>\n",
       "      <th>Order quantities</th>\n",
       "      <th>...</th>\n",
       "      <th>Location</th>\n",
       "      <th>Lead time</th>\n",
       "      <th>Production volumes</th>\n",
       "      <th>Manufacturing lead time</th>\n",
       "      <th>Manufacturing costs</th>\n",
       "      <th>Inspection results</th>\n",
       "      <th>Defect rates</th>\n",
       "      <th>Transportation modes</th>\n",
       "      <th>Routes</th>\n",
       "      <th>Costs</th>\n",
       "    </tr>\n",
       "  </thead>\n",
       "  <tbody>\n",
       "    <tr>\n",
       "      <th>4</th>\n",
       "      <td>cosmetics</td>\n",
       "      <td>062000007</td>\n",
       "      <td>22.79</td>\n",
       "      <td>17.0</td>\n",
       "      <td>715.0</td>\n",
       "      <td>$8656.12</td>\n",
       "      <td>Non-binary</td>\n",
       "      <td>58.0</td>\n",
       "      <td>24.0</td>\n",
       "      <td>79.0</td>\n",
       "      <td>...</td>\n",
       "      <td>Kolkata</td>\n",
       "      <td>16.0</td>\n",
       "      <td>168.0</td>\n",
       "      <td>21.0</td>\n",
       "      <td>$71.42</td>\n",
       "      <td>Pending</td>\n",
       "      <td>3.35</td>\n",
       "      <td>Rail</td>\n",
       "      <td>b</td>\n",
       "      <td>407.65</td>\n",
       "    </tr>\n",
       "    <tr>\n",
       "      <th>11</th>\n",
       "      <td>cosmetics</td>\n",
       "      <td>1VBA0260GE</td>\n",
       "      <td>53.97</td>\n",
       "      <td>78.0</td>\n",
       "      <td>949.0</td>\n",
       "      <td>$4516.14</td>\n",
       "      <td>Unknown</td>\n",
       "      <td>75.0</td>\n",
       "      <td>15.0</td>\n",
       "      <td>90.0</td>\n",
       "      <td>...</td>\n",
       "      <td>Delhi</td>\n",
       "      <td>3.0</td>\n",
       "      <td>617.0</td>\n",
       "      <td>28.0</td>\n",
       "      <td>$80.63</td>\n",
       "      <td>Pass</td>\n",
       "      <td>4.66</td>\n",
       "      <td>Rail</td>\n",
       "      <td>a</td>\n",
       "      <td>424.80</td>\n",
       "    </tr>\n",
       "    <tr>\n",
       "      <th>17</th>\n",
       "      <td>skincare</td>\n",
       "      <td>1VBF0810GE</td>\n",
       "      <td>80.18</td>\n",
       "      <td>44.0</td>\n",
       "      <td>687.0</td>\n",
       "      <td>$6449.54</td>\n",
       "      <td>Male</td>\n",
       "      <td>97.0</td>\n",
       "      <td>20.0</td>\n",
       "      <td>10.0</td>\n",
       "      <td>...</td>\n",
       "      <td>Delhi</td>\n",
       "      <td>13.0</td>\n",
       "      <td>306.0</td>\n",
       "      <td>17.0</td>\n",
       "      <td>$65.34</td>\n",
       "      <td>Pending</td>\n",
       "      <td>0.61</td>\n",
       "      <td>Air</td>\n",
       "      <td>b</td>\n",
       "      <td>603.41</td>\n",
       "    </tr>\n",
       "    <tr>\n",
       "      <th>20</th>\n",
       "      <td>skincare</td>\n",
       "      <td>1VMG0080GE</td>\n",
       "      <td>62.87</td>\n",
       "      <td>46.0</td>\n",
       "      <td>903.0</td>\n",
       "      <td>$1755.28</td>\n",
       "      <td>Female</td>\n",
       "      <td>18.0</td>\n",
       "      <td>21.0</td>\n",
       "      <td>98.0</td>\n",
       "      <td>...</td>\n",
       "      <td>Delhi</td>\n",
       "      <td>20.0</td>\n",
       "      <td>486.0</td>\n",
       "      <td>29.0</td>\n",
       "      <td>$29.09</td>\n",
       "      <td>Fail</td>\n",
       "      <td>3.09</td>\n",
       "      <td>Rail</td>\n",
       "      <td>C route</td>\n",
       "      <td>331.07</td>\n",
       "    </tr>\n",
       "    <tr>\n",
       "      <th>22</th>\n",
       "      <td>skincare</td>\n",
       "      <td>1VMG0140GE</td>\n",
       "      <td>83.82</td>\n",
       "      <td>99.0</td>\n",
       "      <td>163.0</td>\n",
       "      <td>$7097.87</td>\n",
       "      <td>Non-binary</td>\n",
       "      <td>88.0</td>\n",
       "      <td>18.0</td>\n",
       "      <td>50.0</td>\n",
       "      <td>...</td>\n",
       "      <td>Chennai</td>\n",
       "      <td>23.0</td>\n",
       "      <td>941.0</td>\n",
       "      <td>17.0</td>\n",
       "      <td>$97.18</td>\n",
       "      <td>Pending</td>\n",
       "      <td>2.58</td>\n",
       "      <td>Road</td>\n",
       "      <td>route_B</td>\n",
       "      <td>392.25</td>\n",
       "    </tr>\n",
       "  </tbody>\n",
       "</table>\n",
       "<p>5 rows × 24 columns</p>\n",
       "</div>"
      ],
      "text/plain": [
       "   Product type         SKU  Price  Availability  Number of products sold  \\\n",
       "4     cosmetics   062000007  22.79          17.0                    715.0   \n",
       "11    cosmetics  1VBA0260GE  53.97          78.0                    949.0   \n",
       "17     skincare  1VBF0810GE  80.18          44.0                    687.0   \n",
       "20     skincare  1VMG0080GE  62.87          46.0                    903.0   \n",
       "22     skincare  1VMG0140GE  83.82          99.0                    163.0   \n",
       "\n",
       "   Revenue generated Customer demographics  Stock levels  Lead times  \\\n",
       "4           $8656.12            Non-binary          58.0        24.0   \n",
       "11          $4516.14               Unknown          75.0        15.0   \n",
       "17          $6449.54                  Male          97.0        20.0   \n",
       "20          $1755.28                Female          18.0        21.0   \n",
       "22          $7097.87            Non-binary          88.0        18.0   \n",
       "\n",
       "    Order quantities  ...  Location Lead time Production volumes  \\\n",
       "4               79.0  ...   Kolkata      16.0              168.0   \n",
       "11              90.0  ...     Delhi       3.0              617.0   \n",
       "17              10.0  ...     Delhi      13.0              306.0   \n",
       "20              98.0  ...     Delhi      20.0              486.0   \n",
       "22              50.0  ...   Chennai      23.0              941.0   \n",
       "\n",
       "   Manufacturing lead time Manufacturing costs  Inspection results  \\\n",
       "4                     21.0              $71.42             Pending   \n",
       "11                    28.0              $80.63                Pass   \n",
       "17                    17.0              $65.34             Pending   \n",
       "20                    29.0              $29.09                Fail   \n",
       "22                    17.0              $97.18             Pending   \n",
       "\n",
       "    Defect rates  Transportation modes   Routes   Costs  \n",
       "4           3.35                  Rail        b  407.65  \n",
       "11          4.66                  Rail        a  424.80  \n",
       "17          0.61                   Air        b  603.41  \n",
       "20          3.09                  Rail  C route  331.07  \n",
       "22          2.58                  Road  route_B  392.25  \n",
       "\n",
       "[5 rows x 24 columns]"
      ]
     },
     "execution_count": 30,
     "metadata": {},
     "output_type": "execute_result"
    }
   ],
   "source": [
    "supply_ch_df_cleaned.head()"
   ]
  },
  {
   "cell_type": "markdown",
   "metadata": {},
   "source": [
    "---"
   ]
  },
  {
   "cell_type": "markdown",
   "metadata": {},
   "source": [
    "### Handling Data Types"
   ]
  },
  {
   "cell_type": "markdown",
   "metadata": {},
   "source": [
    "Given the information obtain from the initial basic inspection in the dataset, almost all columns seem to be ad-goc with their data types. However, there are a couple of columns that need further adjstments."
   ]
  },
  {
   "cell_type": "markdown",
   "metadata": {},
   "source": [
    "**DW-2: Special characters in currency columns**\n",
    "\n",
    "Columns like `Revenue generated`, `Shipping costs` and `Manufacturing costs` have dollar signs in their numerical values. Therefore, they need transformation for proper processing."
   ]
  },
  {
   "cell_type": "code",
   "execution_count": 31,
   "metadata": {},
   "outputs": [
    {
     "data": {
      "text/html": [
       "<div>\n",
       "<style scoped>\n",
       "    .dataframe tbody tr th:only-of-type {\n",
       "        vertical-align: middle;\n",
       "    }\n",
       "\n",
       "    .dataframe tbody tr th {\n",
       "        vertical-align: top;\n",
       "    }\n",
       "\n",
       "    .dataframe thead th {\n",
       "        text-align: right;\n",
       "    }\n",
       "</style>\n",
       "<table border=\"1\" class=\"dataframe\">\n",
       "  <thead>\n",
       "    <tr style=\"text-align: right;\">\n",
       "      <th></th>\n",
       "      <th>Revenue generated</th>\n",
       "      <th>Shipping costs</th>\n",
       "      <th>Manufacturing costs</th>\n",
       "    </tr>\n",
       "  </thead>\n",
       "  <tbody>\n",
       "    <tr>\n",
       "      <th>4</th>\n",
       "      <td>$8656.12</td>\n",
       "      <td>$4.7</td>\n",
       "      <td>$71.42</td>\n",
       "    </tr>\n",
       "    <tr>\n",
       "      <th>11</th>\n",
       "      <td>$4516.14</td>\n",
       "      <td>$8.68</td>\n",
       "      <td>$80.63</td>\n",
       "    </tr>\n",
       "    <tr>\n",
       "      <th>17</th>\n",
       "      <td>$6449.54</td>\n",
       "      <td>$6.37</td>\n",
       "      <td>$65.34</td>\n",
       "    </tr>\n",
       "    <tr>\n",
       "      <th>20</th>\n",
       "      <td>$1755.28</td>\n",
       "      <td>$2.1</td>\n",
       "      <td>$29.09</td>\n",
       "    </tr>\n",
       "    <tr>\n",
       "      <th>22</th>\n",
       "      <td>$7097.87</td>\n",
       "      <td>$6.27</td>\n",
       "      <td>$97.18</td>\n",
       "    </tr>\n",
       "  </tbody>\n",
       "</table>\n",
       "</div>"
      ],
      "text/plain": [
       "   Revenue generated Shipping costs Manufacturing costs\n",
       "4           $8656.12           $4.7              $71.42\n",
       "11          $4516.14          $8.68              $80.63\n",
       "17          $6449.54          $6.37              $65.34\n",
       "20          $1755.28           $2.1              $29.09\n",
       "22          $7097.87          $6.27              $97.18"
      ]
     },
     "execution_count": 31,
     "metadata": {},
     "output_type": "execute_result"
    }
   ],
   "source": [
    "# Verify data\n",
    "supply_ch_df_cleaned[['Revenue generated', 'Shipping costs', 'Manufacturing costs']].head()"
   ]
  },
  {
   "cell_type": "code",
   "execution_count": 32,
   "metadata": {},
   "outputs": [],
   "source": [
    "# Removing dollar sign and passing to numeric type\n",
    "for column in supply_ch_df_cleaned[['Revenue generated', 'Shipping costs', 'Manufacturing costs']]:\n",
    "    supply_ch_df_cleaned.loc[:, column] = supply_ch_df_cleaned.loc[:, column].str.replace('[$,]', '', regex=True).astype(float)"
   ]
  },
  {
   "cell_type": "markdown",
   "metadata": {},
   "source": [
    "---"
   ]
  },
  {
   "cell_type": "markdown",
   "metadata": {},
   "source": [
    "### Handling Consistency in Records"
   ]
  },
  {
   "cell_type": "code",
   "execution_count": 33,
   "metadata": {},
   "outputs": [
    {
     "data": {
      "text/plain": [
       "array(['b', 'a', 'C route', 'route_B', 'B route', 'c', 'routeC', 'routeA',\n",
       "       'routeB', 'B', 'A route', 'route_A', 'C', 'A', 'route_C'],\n",
       "      dtype=object)"
      ]
     },
     "execution_count": 33,
     "metadata": {},
     "output_type": "execute_result"
    }
   ],
   "source": [
    "# Displaying different representations of route instance\n",
    "supply_ch_df_cleaned['Routes'].unique()"
   ]
  },
  {
   "cell_type": "markdown",
   "metadata": {},
   "source": [
    "**DW-3: Different representations of same instances**\n",
    "\n",
    "If we have a closer look to the routes column, we can see that there are multiple representatios of the same route. Therefore, we need to make that homogeneous for the data processing."
   ]
  },
  {
   "cell_type": "code",
   "execution_count": 34,
   "metadata": {},
   "outputs": [],
   "source": [
    "# Mapping dictionary\n",
    "route_mapping = {\n",
    "    'a': 'Route_A', 'A': 'Route_A', 'A route': 'Route_A', 'routeA': 'Route_A', 'route_A': 'Route_A',\n",
    "    'b': 'Route_B', 'B': 'Route_B', 'B route': 'Route_B', 'routeB': 'Route_B', 'route_B': 'Route_B',\n",
    "    'c': 'Route_C', 'C': 'Route_C', 'C route': 'Route_C', 'routeC': 'Route_C', 'route_C': 'Route_C'\n",
    "}\n",
    "\n",
    "# Apply the mapping to the 'Routes' column\n",
    "supply_ch_df_cleaned.loc[:, 'Routes'] = supply_ch_df_cleaned.loc[:, 'Routes'].replace(route_mapping)"
   ]
  },
  {
   "cell_type": "markdown",
   "metadata": {},
   "source": [
    "---"
   ]
  },
  {
   "cell_type": "markdown",
   "metadata": {},
   "source": [
    "### Handling Column Names"
   ]
  },
  {
   "cell_type": "markdown",
   "metadata": {},
   "source": [
    "**DW-4: Renaming Columns**\n",
    "\n",
    "Now that we have the final selected columns in out dataset, we will rename thos so we can avoid pecial characters (if any) and any spaces on them."
   ]
  },
  {
   "cell_type": "code",
   "execution_count": 35,
   "metadata": {},
   "outputs": [
    {
     "data": {
      "text/plain": [
       "Index(['Product type', 'SKU', 'Price', 'Availability',\n",
       "       'Number of products sold', 'Revenue generated', 'Customer demographics',\n",
       "       'Stock levels', 'Lead times', 'Order quantities', 'Shipping times',\n",
       "       'Shipping carriers', 'Shipping costs', 'Supplier name', 'Location',\n",
       "       'Lead time', 'Production volumes', 'Manufacturing lead time',\n",
       "       'Manufacturing costs', 'Inspection results', 'Defect rates',\n",
       "       'Transportation modes', 'Routes', 'Costs'],\n",
       "      dtype='object')"
      ]
     },
     "execution_count": 35,
     "metadata": {},
     "output_type": "execute_result"
    }
   ],
   "source": [
    "supply_ch_df_cleaned.columns"
   ]
  },
  {
   "cell_type": "code",
   "execution_count": 36,
   "metadata": {},
   "outputs": [],
   "source": [
    "# Renaming columns\n",
    "supply_ch_df_cleaned.columns = supply_ch_df_cleaned.columns.str.replace(' ', '_').str.replace(r'\\W', '', regex=True).str.lower()"
   ]
  },
  {
   "cell_type": "markdown",
   "metadata": {},
   "source": [
    "---"
   ]
  },
  {
   "cell_type": "markdown",
   "metadata": {},
   "source": [
    "### DW - Data Cleaning Validations"
   ]
  },
  {
   "cell_type": "code",
   "execution_count": 37,
   "metadata": {},
   "outputs": [
    {
     "data": {
      "text/html": [
       "<div>\n",
       "<style scoped>\n",
       "    .dataframe tbody tr th:only-of-type {\n",
       "        vertical-align: middle;\n",
       "    }\n",
       "\n",
       "    .dataframe tbody tr th {\n",
       "        vertical-align: top;\n",
       "    }\n",
       "\n",
       "    .dataframe thead th {\n",
       "        text-align: right;\n",
       "    }\n",
       "</style>\n",
       "<table border=\"1\" class=\"dataframe\">\n",
       "  <thead>\n",
       "    <tr style=\"text-align: right;\">\n",
       "      <th></th>\n",
       "      <th>product_type</th>\n",
       "      <th>sku</th>\n",
       "      <th>price</th>\n",
       "      <th>availability</th>\n",
       "      <th>number_of_products_sold</th>\n",
       "      <th>revenue_generated</th>\n",
       "      <th>customer_demographics</th>\n",
       "      <th>stock_levels</th>\n",
       "      <th>lead_times</th>\n",
       "      <th>order_quantities</th>\n",
       "      <th>...</th>\n",
       "      <th>location</th>\n",
       "      <th>lead_time</th>\n",
       "      <th>production_volumes</th>\n",
       "      <th>manufacturing_lead_time</th>\n",
       "      <th>manufacturing_costs</th>\n",
       "      <th>inspection_results</th>\n",
       "      <th>defect_rates</th>\n",
       "      <th>transportation_modes</th>\n",
       "      <th>routes</th>\n",
       "      <th>costs</th>\n",
       "    </tr>\n",
       "  </thead>\n",
       "  <tbody>\n",
       "    <tr>\n",
       "      <th>4</th>\n",
       "      <td>cosmetics</td>\n",
       "      <td>062000007</td>\n",
       "      <td>22.79</td>\n",
       "      <td>17.0</td>\n",
       "      <td>715.0</td>\n",
       "      <td>8656.12</td>\n",
       "      <td>Non-binary</td>\n",
       "      <td>58.0</td>\n",
       "      <td>24.0</td>\n",
       "      <td>79.0</td>\n",
       "      <td>...</td>\n",
       "      <td>Kolkata</td>\n",
       "      <td>16.0</td>\n",
       "      <td>168.0</td>\n",
       "      <td>21.0</td>\n",
       "      <td>71.42</td>\n",
       "      <td>Pending</td>\n",
       "      <td>3.35</td>\n",
       "      <td>Rail</td>\n",
       "      <td>Route_B</td>\n",
       "      <td>407.65</td>\n",
       "    </tr>\n",
       "    <tr>\n",
       "      <th>11</th>\n",
       "      <td>cosmetics</td>\n",
       "      <td>1VBA0260GE</td>\n",
       "      <td>53.97</td>\n",
       "      <td>78.0</td>\n",
       "      <td>949.0</td>\n",
       "      <td>4516.14</td>\n",
       "      <td>Unknown</td>\n",
       "      <td>75.0</td>\n",
       "      <td>15.0</td>\n",
       "      <td>90.0</td>\n",
       "      <td>...</td>\n",
       "      <td>Delhi</td>\n",
       "      <td>3.0</td>\n",
       "      <td>617.0</td>\n",
       "      <td>28.0</td>\n",
       "      <td>80.63</td>\n",
       "      <td>Pass</td>\n",
       "      <td>4.66</td>\n",
       "      <td>Rail</td>\n",
       "      <td>Route_A</td>\n",
       "      <td>424.80</td>\n",
       "    </tr>\n",
       "    <tr>\n",
       "      <th>17</th>\n",
       "      <td>skincare</td>\n",
       "      <td>1VBF0810GE</td>\n",
       "      <td>80.18</td>\n",
       "      <td>44.0</td>\n",
       "      <td>687.0</td>\n",
       "      <td>6449.54</td>\n",
       "      <td>Male</td>\n",
       "      <td>97.0</td>\n",
       "      <td>20.0</td>\n",
       "      <td>10.0</td>\n",
       "      <td>...</td>\n",
       "      <td>Delhi</td>\n",
       "      <td>13.0</td>\n",
       "      <td>306.0</td>\n",
       "      <td>17.0</td>\n",
       "      <td>65.34</td>\n",
       "      <td>Pending</td>\n",
       "      <td>0.61</td>\n",
       "      <td>Air</td>\n",
       "      <td>Route_B</td>\n",
       "      <td>603.41</td>\n",
       "    </tr>\n",
       "    <tr>\n",
       "      <th>20</th>\n",
       "      <td>skincare</td>\n",
       "      <td>1VMG0080GE</td>\n",
       "      <td>62.87</td>\n",
       "      <td>46.0</td>\n",
       "      <td>903.0</td>\n",
       "      <td>1755.28</td>\n",
       "      <td>Female</td>\n",
       "      <td>18.0</td>\n",
       "      <td>21.0</td>\n",
       "      <td>98.0</td>\n",
       "      <td>...</td>\n",
       "      <td>Delhi</td>\n",
       "      <td>20.0</td>\n",
       "      <td>486.0</td>\n",
       "      <td>29.0</td>\n",
       "      <td>29.09</td>\n",
       "      <td>Fail</td>\n",
       "      <td>3.09</td>\n",
       "      <td>Rail</td>\n",
       "      <td>Route_C</td>\n",
       "      <td>331.07</td>\n",
       "    </tr>\n",
       "    <tr>\n",
       "      <th>22</th>\n",
       "      <td>skincare</td>\n",
       "      <td>1VMG0140GE</td>\n",
       "      <td>83.82</td>\n",
       "      <td>99.0</td>\n",
       "      <td>163.0</td>\n",
       "      <td>7097.87</td>\n",
       "      <td>Non-binary</td>\n",
       "      <td>88.0</td>\n",
       "      <td>18.0</td>\n",
       "      <td>50.0</td>\n",
       "      <td>...</td>\n",
       "      <td>Chennai</td>\n",
       "      <td>23.0</td>\n",
       "      <td>941.0</td>\n",
       "      <td>17.0</td>\n",
       "      <td>97.18</td>\n",
       "      <td>Pending</td>\n",
       "      <td>2.58</td>\n",
       "      <td>Road</td>\n",
       "      <td>Route_B</td>\n",
       "      <td>392.25</td>\n",
       "    </tr>\n",
       "  </tbody>\n",
       "</table>\n",
       "<p>5 rows × 24 columns</p>\n",
       "</div>"
      ],
      "text/plain": [
       "   product_type         sku  price  availability  number_of_products_sold  \\\n",
       "4     cosmetics   062000007  22.79          17.0                    715.0   \n",
       "11    cosmetics  1VBA0260GE  53.97          78.0                    949.0   \n",
       "17     skincare  1VBF0810GE  80.18          44.0                    687.0   \n",
       "20     skincare  1VMG0080GE  62.87          46.0                    903.0   \n",
       "22     skincare  1VMG0140GE  83.82          99.0                    163.0   \n",
       "\n",
       "   revenue_generated customer_demographics  stock_levels  lead_times  \\\n",
       "4            8656.12            Non-binary          58.0        24.0   \n",
       "11           4516.14               Unknown          75.0        15.0   \n",
       "17           6449.54                  Male          97.0        20.0   \n",
       "20           1755.28                Female          18.0        21.0   \n",
       "22           7097.87            Non-binary          88.0        18.0   \n",
       "\n",
       "    order_quantities  ...  location lead_time production_volumes  \\\n",
       "4               79.0  ...   Kolkata      16.0              168.0   \n",
       "11              90.0  ...     Delhi       3.0              617.0   \n",
       "17              10.0  ...     Delhi      13.0              306.0   \n",
       "20              98.0  ...     Delhi      20.0              486.0   \n",
       "22              50.0  ...   Chennai      23.0              941.0   \n",
       "\n",
       "   manufacturing_lead_time manufacturing_costs  inspection_results  \\\n",
       "4                     21.0               71.42             Pending   \n",
       "11                    28.0               80.63                Pass   \n",
       "17                    17.0               65.34             Pending   \n",
       "20                    29.0               29.09                Fail   \n",
       "22                    17.0               97.18             Pending   \n",
       "\n",
       "    defect_rates  transportation_modes   routes   costs  \n",
       "4           3.35                  Rail  Route_B  407.65  \n",
       "11          4.66                  Rail  Route_A  424.80  \n",
       "17          0.61                   Air  Route_B  603.41  \n",
       "20          3.09                  Rail  Route_C  331.07  \n",
       "22          2.58                  Road  Route_B  392.25  \n",
       "\n",
       "[5 rows x 24 columns]"
      ]
     },
     "execution_count": 37,
     "metadata": {},
     "output_type": "execute_result"
    }
   ],
   "source": [
    "supply_ch_df_cleaned.head()"
   ]
  },
  {
   "cell_type": "markdown",
   "metadata": {},
   "source": [
    "**DW-1**"
   ]
  },
  {
   "cell_type": "code",
   "execution_count": 38,
   "metadata": {},
   "outputs": [
    {
     "name": "stdout",
     "output_type": "stream",
     "text": [
      "Percentage of null values per column:\n",
      " product_type               0.0\n",
      "sku                        0.0\n",
      "price                      0.0\n",
      "availability               0.0\n",
      "number_of_products_sold    0.0\n",
      "revenue_generated          0.0\n",
      "customer_demographics      0.0\n",
      "stock_levels               0.0\n",
      "lead_times                 0.0\n",
      "order_quantities           0.0\n",
      "shipping_times             0.0\n",
      "shipping_carriers          0.0\n",
      "shipping_costs             0.0\n",
      "supplier_name              0.0\n",
      "location                   0.0\n",
      "lead_time                  0.0\n",
      "production_volumes         0.0\n",
      "manufacturing_lead_time    0.0\n",
      "manufacturing_costs        0.0\n",
      "inspection_results         0.0\n",
      "defect_rates               0.0\n",
      "transportation_modes       0.0\n",
      "routes                     0.0\n",
      "costs                      0.0\n",
      "dtype: float64\n",
      "Overall percentage of null values: 0.0%\n",
      "Number of empty rows: 0\n"
     ]
    }
   ],
   "source": [
    "# Calculate the percentage of null values for each column\n",
    "null_percentage_per_column = supply_ch_df_cleaned.isnull().mean() * 100\n",
    "print(\"Percentage of null values per column:\\n\", null_percentage_per_column)\n",
    "\n",
    "# Calculate the overall percentage of null values in the entire dataset\n",
    "total_null_values = supply_ch_df_cleaned.isnull().sum().sum()\n",
    "total_values = supply_ch_df_cleaned.size\n",
    "overall_null_percentage = (total_null_values / total_values) * 100\n",
    "print(f'Overall percentage of null values: {overall_null_percentage}%')\n",
    "\n",
    "# Check for empty rows\n",
    "rows_with_null = sum(supply_ch_df_cleaned.isnull().all(axis=1))\n",
    "print(f'Number of empty rows: {rows_with_null}')"
   ]
  },
  {
   "cell_type": "markdown",
   "metadata": {},
   "source": [
    "**DW-2**"
   ]
  },
  {
   "cell_type": "code",
   "execution_count": 41,
   "metadata": {},
   "outputs": [
    {
     "data": {
      "text/html": [
       "<div>\n",
       "<style scoped>\n",
       "    .dataframe tbody tr th:only-of-type {\n",
       "        vertical-align: middle;\n",
       "    }\n",
       "\n",
       "    .dataframe tbody tr th {\n",
       "        vertical-align: top;\n",
       "    }\n",
       "\n",
       "    .dataframe thead th {\n",
       "        text-align: right;\n",
       "    }\n",
       "</style>\n",
       "<table border=\"1\" class=\"dataframe\">\n",
       "  <thead>\n",
       "    <tr style=\"text-align: right;\">\n",
       "      <th></th>\n",
       "      <th>revenue_generated</th>\n",
       "      <th>shipping_costs</th>\n",
       "      <th>manufacturing_costs</th>\n",
       "    </tr>\n",
       "  </thead>\n",
       "  <tbody>\n",
       "    <tr>\n",
       "      <th>4</th>\n",
       "      <td>8656.12</td>\n",
       "      <td>4.7</td>\n",
       "      <td>71.42</td>\n",
       "    </tr>\n",
       "    <tr>\n",
       "      <th>11</th>\n",
       "      <td>4516.14</td>\n",
       "      <td>8.68</td>\n",
       "      <td>80.63</td>\n",
       "    </tr>\n",
       "    <tr>\n",
       "      <th>17</th>\n",
       "      <td>6449.54</td>\n",
       "      <td>6.37</td>\n",
       "      <td>65.34</td>\n",
       "    </tr>\n",
       "    <tr>\n",
       "      <th>20</th>\n",
       "      <td>1755.28</td>\n",
       "      <td>2.1</td>\n",
       "      <td>29.09</td>\n",
       "    </tr>\n",
       "    <tr>\n",
       "      <th>22</th>\n",
       "      <td>7097.87</td>\n",
       "      <td>6.27</td>\n",
       "      <td>97.18</td>\n",
       "    </tr>\n",
       "  </tbody>\n",
       "</table>\n",
       "</div>"
      ],
      "text/plain": [
       "   revenue_generated shipping_costs manufacturing_costs\n",
       "4            8656.12            4.7               71.42\n",
       "11           4516.14           8.68               80.63\n",
       "17           6449.54           6.37               65.34\n",
       "20           1755.28            2.1               29.09\n",
       "22           7097.87           6.27               97.18"
      ]
     },
     "execution_count": 41,
     "metadata": {},
     "output_type": "execute_result"
    }
   ],
   "source": [
    "supply_ch_df_cleaned[['revenue_generated', 'shipping_costs', 'manufacturing_costs']].head()"
   ]
  },
  {
   "cell_type": "markdown",
   "metadata": {},
   "source": [
    "**DW-3**"
   ]
  },
  {
   "cell_type": "code",
   "execution_count": 42,
   "metadata": {},
   "outputs": [
    {
     "data": {
      "text/plain": [
       "array(['Route_B', 'Route_A', 'Route_C'], dtype=object)"
      ]
     },
     "execution_count": 42,
     "metadata": {},
     "output_type": "execute_result"
    }
   ],
   "source": [
    "# Displaying different representations of route instance\n",
    "supply_ch_df_cleaned['routes'].unique()"
   ]
  },
  {
   "cell_type": "markdown",
   "metadata": {},
   "source": [
    "---"
   ]
  },
  {
   "cell_type": "markdown",
   "metadata": {},
   "source": [
    "### Saving cleaned dataset for EDA ingestion"
   ]
  },
  {
   "cell_type": "code",
   "execution_count": 43,
   "metadata": {},
   "outputs": [],
   "source": [
    "# Save the cleaned dataframe\n",
    "supply_ch_df_cleaned.to_csv('../../data/price_predictor/staged/Sample_Product_Data_Cleaned.csv', index=False)"
   ]
  }
 ],
 "metadata": {
  "kernelspec": {
   "display_name": "Python 3 (ipykernel)",
   "language": "python",
   "name": "python3"
  },
  "language_info": {
   "codemirror_mode": {
    "name": "ipython",
    "version": 3
   },
   "file_extension": ".py",
   "mimetype": "text/x-python",
   "name": "python",
   "nbconvert_exporter": "python",
   "pygments_lexer": "ipython3",
   "version": "3.11.5"
  }
 },
 "nbformat": 4,
 "nbformat_minor": 4
}
