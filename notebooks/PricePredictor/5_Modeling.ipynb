{
 "cells": [
  {
   "cell_type": "markdown",
   "metadata": {},
   "source": [
    "# 5_Modeling: Price Predictor"
   ]
  },
  {
   "cell_type": "markdown",
   "metadata": {},
   "source": [
    "# Modeling Process\n",
    "\n",
    "- Explore 4 regression models, 1 as baseline and the others more advanced\n",
    "- Train test splits\n",
    "- Apply cross validation and hyperparamter tunning in at least 2 models\n",
    "- Get the feature importance and see which feature is more relevant\n",
    "- Apply cross validation for evaluation\n",
    "- Draw a table comparing the performances of each model. Example:\n",
    "\n",
    "# Model Comparison\n",
    "\n",
    "In this section, we compare the performance of different models using various metrics. The models evaluated include [Model 1], [Model 2], and [Model 3]. The following metrics are used for comparison:\n",
    "\n",
    "- **Accuracy**: The ratio of correctly predicted observations to the total observations. It is a useful metric when the classes are well balanced.\n",
    "- **Precision**: The ratio of correctly predicted positive observations to the total predicted positives. High precision relates to the low false positive rate.\n",
    "- **Recall (Sensitivity)**: The ratio of correctly predicted positive observations to all observations in the actual class. High recall relates to the low false negative rate.\n",
    "- **F1 Score**: The weighted average of Precision and Recall. It is a better metric than accuracy for imbalanced datasets.\n",
    "- **ROC-AUC Score**: Area Under the Receiver Operating Characteristic Curve, which is a performance measurement for classification problems at various threshold settings.\n",
    "\n",
    "# Modeling Output\n",
    "\n",
    "The output of this stage will be pickle files for future integration with the application. We will save all tested models and pick the best performer for the application integration."
   ]
  },
  {
   "cell_type": "code",
   "execution_count": 14,
   "metadata": {},
   "outputs": [],
   "source": [
    "# Imports\n",
    "import pandas as pd\n",
    "import numpy as np\n",
    "import pandas as pd\n",
    "import warnings\n",
    "import pickle\n",
    "from sklearn.model_selection import train_test_split\n",
    "from sklearn.preprocessing import StandardScaler\n",
    "from sklearn.decomposition import PCA\n",
    "from sklearn.ensemble import RandomForestRegressor, GradientBoostingRegressor\n",
    "from sklearn.linear_model import LinearRegression\n",
    "from sklearn.svm import SVR\n",
    "from sklearn.metrics import mean_squared_error, r2_score\n",
    "import pandas as pd\n",
    "from sklearn.model_selection import train_test_split\n",
    "from sklearn.linear_model import LinearRegression\n",
    "from sklearn.ensemble import RandomForestRegressor, GradientBoostingRegressor\n",
    "from sklearn.svm import SVR\n",
    "from sklearn.neighbors import KNeighborsRegressor\n",
    "from sklearn.metrics import mean_squared_error, r2_score"
   ]
  },
  {
   "cell_type": "code",
   "execution_count": 15,
   "metadata": {},
   "outputs": [],
   "source": [
    "# Ignore data conversion warnings\n",
    "warnings.simplefilter(action='ignore')"
   ]
  },
  {
   "cell_type": "markdown",
   "metadata": {},
   "source": [
    "#### Loading Data from Feat Engineering"
   ]
  },
  {
   "cell_type": "code",
   "execution_count": 16,
   "metadata": {},
   "outputs": [],
   "source": [
    "X_pca=pd.read_csv('../../data/price_predictor/processed/supply_chain_X_pca.csv')\n",
    "y=pd.read_csv('../../data/price_predictor/processed/supply_chain_Y_pca.csv')"
   ]
  },
  {
   "cell_type": "markdown",
   "metadata": {},
   "source": [
    "**Baseline Model**"
   ]
  },
  {
   "cell_type": "code",
   "execution_count": 17,
   "metadata": {},
   "outputs": [],
   "source": [
    "# Train test split\n",
    "X_train, X_test, y_train, y_test = train_test_split(X_pca, y, test_size=0.2, random_state=42)"
   ]
  },
  {
   "cell_type": "code",
   "execution_count": 18,
   "metadata": {},
   "outputs": [
    {
     "name": "stdout",
     "output_type": "stream",
     "text": [
      "Linear Regression RMSE: 30.034397689991362\n",
      "Linear Regression R2: -0.030678180531177768\n"
     ]
    }
   ],
   "source": [
    "lr_model = LinearRegression()\n",
    "\n",
    "lr_model.fit(X_train, y_train)\n",
    "\n",
    "y_pred_lr = lr_model.predict(X_test)\n",
    "\n",
    "lr_mse = mean_squared_error(y_test, y_pred_lr)\n",
    "lr_rmse = np.sqrt(lr_mse)\n",
    "lr_r2 = r2_score(y_test, y_pred_lr)\n",
    "\n",
    "print(f'Linear Regression RMSE: {lr_rmse}')\n",
    "print(f'Linear Regression R2: {lr_r2}')"
   ]
  },
  {
   "cell_type": "markdown",
   "metadata": {},
   "source": [
    "---"
   ]
  },
  {
   "cell_type": "markdown",
   "metadata": {},
   "source": [
    "**Other Models**"
   ]
  },
  {
   "cell_type": "code",
   "execution_count": 19,
   "metadata": {},
   "outputs": [
    {
     "name": "stdout",
     "output_type": "stream",
     "text": [
      "Model: Linear Regression\n",
      "Mean Squared Error: 902.0650446005585\n",
      "Root Mean Squared Error: 30.034397689991362\n",
      "R^2 Score: -0.030678180531177768\n",
      "\n",
      "Model: Random Forest\n",
      "Mean Squared Error: 881.3312848321228\n",
      "Root Mean Squared Error: 29.687224269576348\n",
      "R^2 Score: -0.006988277101692253\n",
      "\n",
      "Model: SVR\n",
      "Mean Squared Error: 877.3263591929172\n",
      "Root Mean Squared Error: 29.619695460840195\n",
      "R^2 Score: -0.002412343807650208\n",
      "\n",
      "Model: K-Nearest Neighbors\n",
      "Mean Squared Error: 1001.7053044245808\n",
      "Root Mean Squared Error: 31.64972834677386\n",
      "R^2 Score: -0.14452478429637772\n",
      "\n",
      "Model: Gradient Boosting\n",
      "Mean Squared Error: 909.5002848680857\n",
      "Root Mean Squared Error: 30.157922422940306\n",
      "R^2 Score: -0.03917351017133752\n",
      "\n"
     ]
    }
   ],
   "source": [
    "# Models to try for the regression\n",
    "models = {\n",
    "    'Linear Regression': LinearRegression(),\n",
    "    'Random Forest': RandomForestRegressor(),\n",
    "    'SVR': SVR(),\n",
    "    'K-Nearest Neighbors': KNeighborsRegressor(),\n",
    "    'Gradient Boosting': GradientBoostingRegressor()\n",
    "}\n",
    "\n",
    "# Results of all models and saving\n",
    "results = {}\n",
    "for model_name, model in models.items():\n",
    "    model.fit(X_train, y_train)\n",
    "    y_pred = model.predict(X_test)\n",
    "    mse = mean_squared_error(y_test, y_pred)\n",
    "    rmse = np.sqrt(mse)  # Calculate RMSE\n",
    "    r2 = r2_score(y_test, y_pred)\n",
    "    results[model_name] = {\n",
    "        'Mean Squared Error': mse,\n",
    "        'Root Mean Squared Error': rmse,\n",
    "        'R^2 Score': r2\n",
    "    }\n",
    "    \n",
    "    # Save the model as a pickle file\n",
    "    with open(f\"../../models/price_predictor/{model_name.replace(' ', '_').lower()}_model.pkl\", 'wb') as file:\n",
    "        pickle.dump(model, file)\n",
    "\n",
    "for model_name, metrics in results.items():\n",
    "    print(f\"Model: {model_name}\")\n",
    "    print(f\"Mean Squared Error: {metrics['Mean Squared Error']}\")\n",
    "    print(f\"Root Mean Squared Error: {metrics['Root Mean Squared Error']}\")\n",
    "    print(f\"R^2 Score: {metrics['R^2 Score']}\\n\")\n"
   ]
  },
  {
   "cell_type": "markdown",
   "metadata": {},
   "source": [
    "Here's your filled-out table:\n",
    "\n",
    "## Model Metrics\n",
    "\n",
    "| **Model**            | **MSE** | **RMSE** | **R^2 Score** | \n",
    "|----------------------|---------|----------|---------------|\n",
    "| **Linear Regression**| 902.07  | 30.03    | -0.03         |\n",
    "| **Random Forest**    | 909.21  | 30.15    | -0.04         | \n",
    "| **SVR**              | 877.33  | 29.62    | -0.002        | \n",
    "| **KNN**              | 1001.71 | 31.65    | -0.14         |\n",
    "| **Gradient Boosting**| 906.22  | 30.10    | -0.04         |\n",
    "\n",
    "### Interpretation of Results and Conclusion:\n",
    "\n",
    "Looking at the results, all models seem to perform poorly in predicting shipping prices for the supply chain application. The Mean Squared Error (MSE) values are relatively high across all models, indicating significant errors between predicted and actual values. The Root Mean Squared Error (RMSE) values reflect this as well, with deviations of around 30 or higher, which could be significant in a shipping cost context.\n",
    "\n",
    "Furthermore, the R^2 scores are all negative, indicating that the models are performing worse than a simple horizontal line at the mean of the data would. This suggests that these models are not capturing the variance in the data and are essentially ineffective for predicting shipping prices in this scenario.\n",
    "\n",
    "Despite using a variety of algorithms, including Linear Regression, Random Forest, Support Vector Regression (SVR), K-Nearest Neighbors (KNN), and Gradient Boosting, the prediction made on the prices is 30 units off the real price."
   ]
  },
  {
   "cell_type": "markdown",
   "metadata": {},
   "source": [
    "Possible next steps could involve:\n",
    "1. **Feature Engineering**: Refining or adding features that might better capture the nuances of shipping costs.\n",
    "2. **Model Tuning**: Adjusting hyperparameters or trying different algorithms that might perform better on this specific problem.\n",
    "3. **Data Collection**: Ensuring that the dataset adequately represents the factors influencing shipping prices.\n",
    "4. **Domain Expertise**: Consulting with domain experts to better understand the factors at play and refine the modeling approach accordingly.\n",
    "\n",
    "In conclusion, further exploration and refinement are needed to develop a more accurate predictive model for shipping prices in this supply chain context."
   ]
  }
 ],
 "metadata": {
  "kernelspec": {
   "display_name": "Python 3 (ipykernel)",
   "language": "python",
   "name": "python3"
  },
  "language_info": {
   "codemirror_mode": {
    "name": "ipython",
    "version": 3
   },
   "file_extension": ".py",
   "mimetype": "text/x-python",
   "name": "python",
   "nbconvert_exporter": "python",
   "pygments_lexer": "ipython3",
   "version": "3.11.4"
  }
 },
 "nbformat": 4,
 "nbformat_minor": 4
}
