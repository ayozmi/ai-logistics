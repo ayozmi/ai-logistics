{
 "cells": [
  {
   "cell_type": "markdown",
   "metadata": {},
   "source": [
    "# TO-DO: \n",
    "\n",
    "- Explore 4 regression models, 1 as baseline and the others more advanced\n",
    "- Train test splits\n",
    "- Apply cross validation and hyperparamter tunning in at least 2 models\n",
    "- Get the feature importance and see which feature is more relevant\n",
    "- Apply cross validation for evaluation\n",
    "- Draw a table comparing the performances of each model. Example:\n",
    "\n",
    "# Model Comparison\n",
    "\n",
    "In this section, we compare the performance of different models using various metrics. The models evaluated include [Model 1], [Model 2], and [Model 3]. The following metrics are used for comparison:\n",
    "\n",
    "- **Accuracy**: The ratio of correctly predicted observations to the total observations. It is a useful metric when the classes are well balanced.\n",
    "- **Precision**: The ratio of correctly predicted positive observations to the total predicted positives. High precision relates to the low false positive rate.\n",
    "- **Recall (Sensitivity)**: The ratio of correctly predicted positive observations to all observations in the actual class. High recall relates to the low false negative rate.\n",
    "- **F1 Score**: The weighted average of Precision and Recall. It is a better metric than accuracy for imbalanced datasets.\n",
    "- **ROC-AUC Score**: Area Under the Receiver Operating Characteristic Curve, which is a performance measurement for classification problems at various threshold settings.\n",
    "\n",
    "## Model Metrics\n",
    "\n",
    "| **Model**       | **Accuracy** | **Precision** | **Recall** | **F1 Score** | **ROC-AUC Score** |\n",
    "|-----------------|--------------|---------------|------------|--------------|-------------------|\n",
    "| **Model 1**     | 0.XX         | 0.XX          | 0.XX       | 0.XX         | 0.XX              |\n",
    "| **Model 2**     | 0.XX         | 0.XX          | 0.XX       | 0.XX         | 0.XX              |\n",
    "| **Model 3**     | 0.XX         | 0.XX          | 0.XX       | 0.XX         | 0.XX              |\n",
    "\n",
    "## Interpretation of Results\n",
    "\n",
    "- **Model 1**: [Brief summary of performance]\n",
    "- **Model 2**: [Brief summary of performance]\n",
    "- **Model 3**: [Brief summary of performance]\n",
    "\n",
    "Based on the comparison, we can observe that [Model X] performs the best overall due to its higher [Metric(s)]. However, depending on the specific use case and requirements (e.g., higher precision vs. recall), [Model Y] might be preferable.\n",
    "\n",
    "## Conclusion\n",
    "\n",
    "The chosen model for deployment is [Model Z] due to its superior performance in [specific metric(s)]. Further fine-tuning and validation will be conducted to ensure robustness and reliability in a real-world scenario.\n",
    "\n",
    "\n",
    "**OUTPUT**: The best performer model saved in a pickle file in '..\\..\\repos\\ai-logistics\\models\\price_predictor'"
   ]
  },
  {
   "cell_type": "code",
   "execution_count": 28,
   "metadata": {},
   "outputs": [],
   "source": [
    "import pandas as pd\n",
    "import numpy as np\n",
    "import pandas as pd\n",
    "from sklearn.model_selection import train_test_split\n",
    "from sklearn.preprocessing import StandardScaler\n",
    "from sklearn.decomposition import PCA\n",
    "from sklearn.ensemble import RandomForestRegressor\n",
    "from sklearn.linear_model import LinearRegression\n",
    "from sklearn.svm import SVR\n",
    "from sklearn.metrics import mean_squared_error, r2_score\n",
    "import pandas as pd\n",
    "from sklearn.model_selection import train_test_split\n",
    "from sklearn.linear_model import LinearRegression\n",
    "from sklearn.ensemble import RandomForestRegressor, GradientBoostingRegressor\n",
    "from sklearn.svm import SVR\n",
    "from sklearn.neighbors import KNeighborsRegressor\n",
    "from sklearn.metrics import mean_squared_error, r2_score\n"
   ]
  },
  {
   "cell_type": "code",
   "execution_count": 29,
   "metadata": {},
   "outputs": [],
   "source": [
    "X_pca=pd.read_csv('../../data/price_predictor/processed/X_pca.csv')\n",
    "y=pd.read_csv('../../data/price_predictor/processed/y.csv')"
   ]
  },
  {
   "cell_type": "markdown",
   "metadata": {},
   "source": [
    "**Baseline Model**"
   ]
  },
  {
   "cell_type": "code",
   "execution_count": 30,
   "metadata": {},
   "outputs": [],
   "source": [
    "X_train, X_test, y_train, y_test = train_test_split(X_pca, y, test_size=0.2, random_state=42)"
   ]
  },
  {
   "cell_type": "code",
   "execution_count": 40,
   "metadata": {},
   "outputs": [
    {
     "name": "stdout",
     "output_type": "stream",
     "text": [
      "Linear Regression RMSE: 30.034397689991362\n",
      "Linear Regression R2: -0.030678180531177768\n"
     ]
    }
   ],
   "source": [
    "lr_model = LinearRegression()\n",
    "\n",
    "lr_model.fit(X_train, y_train)\n",
    "\n",
    "y_pred_lr = lr_model.predict(X_test)\n",
    "\n",
    "lr_mse = mean_squared_error(y_test, y_pred_lr)\n",
    "lr_rmse = np.sqrt(lr_mse)\n",
    "lr_r2 = r2_score(y_test, y_pred_lr)\n",
    "\n",
    "print(f'Linear Regression RMSE: {lr_rmse}')\n",
    "print(f'Linear Regression R2: {lr_r2}')"
   ]
  },
  {
   "cell_type": "code",
   "execution_count": 41,
   "metadata": {},
   "outputs": [
    {
     "name": "stderr",
     "output_type": "stream",
     "text": [
      "/Users/daniel/anaconda3/envs/DataScienceFoundations/lib/python3.11/site-packages/sklearn/base.py:1474: DataConversionWarning: A column-vector y was passed when a 1d array was expected. Please change the shape of y to (n_samples,), for example using ravel().\n",
      "  return fit_method(estimator, *args, **kwargs)\n",
      "/Users/daniel/anaconda3/envs/DataScienceFoundations/lib/python3.11/site-packages/sklearn/utils/validation.py:1300: DataConversionWarning: A column-vector y was passed when a 1d array was expected. Please change the shape of y to (n_samples, ), for example using ravel().\n",
      "  y = column_or_1d(y, warn=True)\n",
      "/Users/daniel/anaconda3/envs/DataScienceFoundations/lib/python3.11/site-packages/sklearn/ensemble/_gb.py:668: DataConversionWarning: A column-vector y was passed when a 1d array was expected. Please change the shape of y to (n_samples, ), for example using ravel().\n",
      "  y = column_or_1d(y, warn=True)  # TODO: Is this still required?\n"
     ]
    },
    {
     "name": "stdout",
     "output_type": "stream",
     "text": [
      "Model: Linear Regression\n",
      "Mean Squared Error: 902.0650446005585\n",
      "Root Mean Squared Error: 30.034397689991362\n",
      "R^2 Score: -0.030678180531177768\n",
      "\n",
      "Model: Random Forest\n",
      "Mean Squared Error: 909.2088544156146\n",
      "Root Mean Squared Error: 30.15309029627999\n",
      "R^2 Score: -0.038840528630480486\n",
      "\n",
      "Model: SVR\n",
      "Mean Squared Error: 877.3263591929172\n",
      "Root Mean Squared Error: 29.619695460840195\n",
      "R^2 Score: -0.002412343807650208\n",
      "\n",
      "Model: K-Nearest Neighbors\n",
      "Mean Squared Error: 1001.7053044245808\n",
      "Root Mean Squared Error: 31.64972834677386\n",
      "R^2 Score: -0.14452478429637772\n",
      "\n",
      "Model: Gradient Boosting\n",
      "Mean Squared Error: 906.2182895827636\n",
      "Root Mean Squared Error: 30.103459761010257\n",
      "R^2 Score: -0.03542357999785928\n",
      "\n"
     ]
    }
   ],
   "source": [
    "from sklearn.linear_model import LinearRegression\n",
    "from sklearn.ensemble import RandomForestRegressor, GradientBoostingRegressor\n",
    "from sklearn.svm import SVR\n",
    "from sklearn.neighbors import KNeighborsRegressor\n",
    "from sklearn.metrics import mean_squared_error, r2_score\n",
    "import numpy as np\n",
    "\n",
    "models = {\n",
    "    'Linear Regression': LinearRegression(),\n",
    "    'Random Forest': RandomForestRegressor(),\n",
    "    'SVR': SVR(),\n",
    "    'K-Nearest Neighbors': KNeighborsRegressor(),\n",
    "    'Gradient Boosting': GradientBoostingRegressor()\n",
    "}\n",
    "\n",
    "results = {}\n",
    "for model_name, model in models.items():\n",
    "    model.fit(X_train, y_train)\n",
    "    y_pred = model.predict(X_test)\n",
    "    mse = mean_squared_error(y_test, y_pred)\n",
    "    rmse = np.sqrt(mse)  # Calculate RMSE\n",
    "    r2 = r2_score(y_test, y_pred)\n",
    "    results[model_name] = {\n",
    "        'Mean Squared Error': mse,\n",
    "        'Root Mean Squared Error': rmse,\n",
    "        'R^2 Score': r2\n",
    "    }\n",
    "\n",
    "for model_name, metrics in results.items():\n",
    "    print(f\"Model: {model_name}\")\n",
    "    print(f\"Mean Squared Error: {metrics['Mean Squared Error']}\")\n",
    "    print(f\"Root Mean Squared Error: {metrics['Root Mean Squared Error']}\")\n",
    "    print(f\"R^2 Score: {metrics['R^2 Score']}\\n\")\n"
   ]
  }
 ],
 "metadata": {
  "kernelspec": {
   "display_name": "Python 3 (ipykernel)",
   "language": "python",
   "name": "python3"
  },
  "language_info": {
   "codemirror_mode": {
    "name": "ipython",
    "version": 3
   },
   "file_extension": ".py",
   "mimetype": "text/x-python",
   "name": "python",
   "nbconvert_exporter": "python",
   "pygments_lexer": "ipython3",
   "version": "3.11.5"
  }
 },
 "nbformat": 4,
 "nbformat_minor": 4
}
