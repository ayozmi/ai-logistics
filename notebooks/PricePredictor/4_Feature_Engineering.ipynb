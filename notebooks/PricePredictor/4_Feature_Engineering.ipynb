{
 "cells": [
  {
   "cell_type": "code",
   "execution_count": null,
   "metadata": {},
   "outputs": [],
   "source": []
  },
  {
   "cell_type": "markdown",
   "metadata": {},
   "source": [
    "# TO-DO (Possible steps)\n",
    "\n",
    "- Encode Categorical Variables\n",
    "- Convert categorical variables to numerical representations if needed\n",
    "- Do buckets of each category it is necessary\n",
    "- Normalize/Standardize Numerical Features\n",
    "- Remove or combine that are highly correlated to prevent multicollinearity\n",
    "- Apply PCA if it is suitable. In that case include the variance explainability plot\n",
    "\n",
    "**OUTPUT**: a csv file saved in '../../data/price_predictor/processed/Sample_Product_Data_Cleaned.csv' ready for machine learning input."
   ]
  },
  {
   "cell_type": "markdown",
   "metadata": {},
   "source": []
  }
 ],
 "metadata": {
  "kernelspec": {
   "display_name": "Python 3 (ipykernel)",
   "language": "python",
   "name": "python3"
  },
  "language_info": {
   "codemirror_mode": {
    "name": "ipython",
    "version": 3
   },
   "file_extension": ".py",
   "mimetype": "text/x-python",
   "name": "python",
   "nbconvert_exporter": "python",
   "pygments_lexer": "ipython3",
   "version": "3.11.5"
  }
 },
 "nbformat": 4,
 "nbformat_minor": 4
}
