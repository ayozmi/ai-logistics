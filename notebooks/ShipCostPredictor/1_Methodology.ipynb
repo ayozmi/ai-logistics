{
 "cells": [
  {
   "cell_type": "markdown",
   "metadata": {},
   "source": [
    "*1_Methodology.ipynb (this file)*\n",
    "\n",
    "This document elucidates the process of developing the shipping cost predictor feature with a 'Demurrage' classification model in the middle, delineating the various files employed for its development and implementation."
   ]
  },
  {
   "cell_type": "markdown",
   "metadata": {},
   "source": [
    "*2_data_wrangling.ipynb*\n",
    "\n",
    "## Stages:\n",
    "\n",
    "1. Handle missing values\n",
    "2. Define categorical features\n",
    "3. Perform feature engineering\n",
    "4. List insights for the Exploratory Data Analysis\n",
    "5. Define the data transformations needed\n",
    "\n",
    "## Output:\n",
    "\n",
    "Dataset prepared for EDA"
   ]
  },
  {
   "cell_type": "markdown",
   "metadata": {},
   "source": [
    "*3_EDA.ipynb*\n",
    "\n",
    "## Stages:\n",
    "\n",
    "1. Data Wrangling Dataset Ingestion\n",
    "2. Analyze categorical and numerical features\n",
    "3. Select features based on their correlations\n",
    "4. Select features and the target variable\n",
    "5. Examine the distribution of numerical features\n",
    "6. Select features based on their correlations\n",
    "7. Re-define steps in data wrangling stages (if applicable)\n",
    "8. Clean the dataset for modeling\n",
    "\n",
    "## Output:\n",
    "\n",
    "Dataset for modeling"
   ]
  },
  {
   "cell_type": "markdown",
   "metadata": {},
   "source": [
    "*4_modeling.ipynb*\n",
    "\n",
    "## Stages:\n",
    "\n",
    "1. EDA Dataset Ingestion\n",
    "2. Choose Model Type\n",
    "3. Train/Test Phase\n",
    "4. Save Intermediate Datasets\n",
    "5. Model Evaluation Metrics\n",
    "6. Try Different ML Models\n",
    "7. Pick a Useful Metric\n",
    "8. Condense Models and Metrics\n",
    "9. Visualization of Performance Plots\n",
    "10. Saving the Model\n",
    "\n",
    "## Output:\n",
    "\n",
    ".pkl file model for later usage in pipelines and platform integration "
   ]
  },
  {
   "cell_type": "markdown",
   "metadata": {},
   "source": [
    "*Deployment*\n",
    "\n",
    "Predictive feature integration with software platform."
   ]
  }
 ],
 "metadata": {
  "kernelspec": {
   "display_name": "Python 3 (ipykernel)",
   "language": "python",
   "name": "python3"
  },
  "language_info": {
   "codemirror_mode": {
    "name": "ipython",
    "version": 3
   },
   "file_extension": ".py",
   "mimetype": "text/x-python",
   "name": "python",
   "nbconvert_exporter": "python",
   "pygments_lexer": "ipython3",
   "version": "3.11.5"
  }
 },
 "nbformat": 4,
 "nbformat_minor": 4
}
