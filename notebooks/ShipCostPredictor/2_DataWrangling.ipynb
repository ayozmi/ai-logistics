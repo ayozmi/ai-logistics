{
 "cells": [
  {
   "cell_type": "markdown",
   "metadata": {},
   "source": [
    "# 2_DataWrangling: Shipping Cost Predictor"
   ]
  },
  {
   "cell_type": "code",
   "execution_count": 131,
   "metadata": {},
   "outputs": [],
   "source": [
    "# Import for data wrangling\n",
    "import os\n",
    "import boto3\n",
    "import pandas as pd\n",
    "from io import StringIO"
   ]
  },
  {
   "cell_type": "code",
   "execution_count": 132,
   "metadata": {},
   "outputs": [
    {
     "name": "stdout",
     "output_type": "stream",
     "text": [
      "Looking for .env file at: c:\\repos\\ai-logistics\\notebooks\\ShipCostPredictor\\..\\../.env\n",
      "Loaded BUCKET_NAME_INBOUND=logimo-inbound\n",
      "Loaded BUCKET_NAME_ALIGNED=logimo-aligned\n",
      "Loaded BUCKET_NAME_OUTBOUND=logimo-outbound\n",
      "Loaded PREFIX_KEY=ship_cost_predictor\n"
     ]
    }
   ],
   "source": [
    "# Load variables from .env file, ignoring lines without '='\n",
    "def load_env_variables(env_file='../.env'):\n",
    "    # Get the current working directory\n",
    "    current_dir = os.getcwd()\n",
    "    env_path = os.path.join(current_dir, '..', env_file)\n",
    "    \n",
    "    print(f\"Looking for .env file at: {env_path}\")  # Debugging output\n",
    "\n",
    "    if not os.path.exists(env_path):\n",
    "        print(f\".env file does not exist at: {env_path}\")\n",
    "        return\n",
    "\n",
    "    with open(env_path, 'r') as file:\n",
    "        for line in file:\n",
    "            # Skip lines without an equals sign or comments\n",
    "            if '=' in line and not line.strip().startswith('#'):\n",
    "                key, value = line.strip().split('=', 1)\n",
    "                os.environ[key] = value\n",
    "                print(f\"Loaded {key}={value}\")  # Debugging output\n",
    "\n",
    "# Load environment variables\n",
    "load_env_variables()\n"
   ]
  },
  {
   "cell_type": "markdown",
   "metadata": {},
   "source": [
    "## Loading Data\n",
    "\n",
    "1. Loading files\n",
    "2. Concatenating into a single file\n",
    "3. Basic data exploration"
   ]
  },
  {
   "cell_type": "code",
   "execution_count": 133,
   "metadata": {},
   "outputs": [],
   "source": [
    "# Create an S3 client\n",
    "s3 = boto3.client('s3')\n",
    "\n",
    "# Specify the bucket name and prefix (folder path)\n",
    "bucket_name = os.getenv('BUCKET_NAME_INBOUND')\n",
    "prefix = os.getenv('PREFIX_KEY')\n",
    "\n",
    "# List objects in the specified S3 folder\n",
    "response = s3.list_objects_v2(Bucket=bucket_name, Prefix=prefix)\n",
    "\n",
    "# Initialize a list to store CSV file keys\n",
    "csv_files = []\n",
    "\n",
    "# Iterate over the objects and collect keys of CSV files\n",
    "for obj in response.get('Contents', []):\n",
    "    object_key = obj['Key']\n",
    "    if object_key.endswith('.csv'):\n",
    "        csv_files.append(object_key)"
   ]
  },
  {
   "cell_type": "code",
   "execution_count": 134,
   "metadata": {},
   "outputs": [],
   "source": [
    "# Initialize a list to store DataFrames\n",
    "dataframes = []\n",
    "\n",
    "# Read each CSV file and store in a DataFrame\n",
    "for csv_file in csv_files:\n",
    "    # Get the object from S3\n",
    "    csv_obj = s3.get_object(Bucket=bucket_name, Key=csv_file)\n",
    "\n",
    "    # Get the body of the object (the file content)\n",
    "    body = csv_obj['Body']\n",
    "\n",
    "    # Read the body into a string\n",
    "    csv_string = body.read().decode('utf-8')\n",
    "\n",
    "    # Use pandas to read the CSV string into a DataFrame\n",
    "    df = pd.read_csv(StringIO(csv_string))\n",
    "\n",
    "    # Append the DataFrame to the list\n",
    "    dataframes.append(df)"
   ]
  },
  {
   "cell_type": "code",
   "execution_count": 135,
   "metadata": {},
   "outputs": [
    {
     "name": "stdout",
     "output_type": "stream",
     "text": [
      "Concatenated file saved to s3://logimo-aligned/ship_cost_predictor/Sample_Data_Product_Concatenated.csv\n"
     ]
    }
   ],
   "source": [
    "# Concatenate all the DataFrames\n",
    "supply_ch_df_raw = pd.concat(dataframes, ignore_index=True)\n",
    "\n",
    "# Save the concatenated DataFrame to S3\n",
    "output_bucket_name = 'logimo-aligned'\n",
    "output_prefix = f'{prefix}/Sample_Data_Product_Concatenated.csv'\n",
    "csv_buffer = StringIO()\n",
    "supply_ch_df_raw.to_csv(csv_buffer, index=False)\n",
    "\n",
    "# Upload the CSV to S3\n",
    "s3.put_object(Bucket=output_bucket_name, Key=output_prefix, Body=csv_buffer.getvalue())\n",
    "\n",
    "print(f\"Concatenated file saved to s3://{output_bucket_name}/{output_prefix}\")"
   ]
  },
  {
   "cell_type": "markdown",
   "metadata": {},
   "source": [
    "---"
   ]
  },
  {
   "cell_type": "markdown",
   "metadata": {},
   "source": [
    "#### Dataset initial inspection"
   ]
  },
  {
   "cell_type": "code",
   "execution_count": 136,
   "metadata": {},
   "outputs": [
    {
     "data": {
      "text/html": [
       "<div>\n",
       "<style scoped>\n",
       "    .dataframe tbody tr th:only-of-type {\n",
       "        vertical-align: middle;\n",
       "    }\n",
       "\n",
       "    .dataframe tbody tr th {\n",
       "        vertical-align: top;\n",
       "    }\n",
       "\n",
       "    .dataframe thead th {\n",
       "        text-align: right;\n",
       "    }\n",
       "</style>\n",
       "<table border=\"1\" class=\"dataframe\">\n",
       "  <thead>\n",
       "    <tr style=\"text-align: right;\">\n",
       "      <th></th>\n",
       "      <th>Product type</th>\n",
       "      <th>SKU</th>\n",
       "      <th>Estimated price</th>\n",
       "      <th>Availability</th>\n",
       "      <th>Number of products sold</th>\n",
       "      <th>Revenue generated</th>\n",
       "      <th>Customer demographics</th>\n",
       "      <th>Stock levels</th>\n",
       "      <th>Lead times</th>\n",
       "      <th>Order quantities</th>\n",
       "      <th>...</th>\n",
       "      <th>Lead time</th>\n",
       "      <th>Production volumes</th>\n",
       "      <th>Manufacturing lead time</th>\n",
       "      <th>Manufacturing costs</th>\n",
       "      <th>Inspection results</th>\n",
       "      <th>Defect rates</th>\n",
       "      <th>Transportation modes</th>\n",
       "      <th>Routes</th>\n",
       "      <th>Costs</th>\n",
       "      <th>Demurrage</th>\n",
       "    </tr>\n",
       "  </thead>\n",
       "  <tbody>\n",
       "    <tr>\n",
       "      <th>0</th>\n",
       "      <td>cosmetics</td>\n",
       "      <td>062000005</td>\n",
       "      <td>4350.0</td>\n",
       "      <td>98.0</td>\n",
       "      <td>216.0</td>\n",
       "      <td>$5513.64</td>\n",
       "      <td>NaN</td>\n",
       "      <td>28.0</td>\n",
       "      <td>5.0</td>\n",
       "      <td>16.0</td>\n",
       "      <td>...</td>\n",
       "      <td>28.0</td>\n",
       "      <td>406.0</td>\n",
       "      <td>9.0</td>\n",
       "      <td>$98.49</td>\n",
       "      <td>Fail</td>\n",
       "      <td>3.27</td>\n",
       "      <td>Rail</td>\n",
       "      <td>A route</td>\n",
       "      <td>329.95</td>\n",
       "      <td>0.0</td>\n",
       "    </tr>\n",
       "    <tr>\n",
       "      <th>1</th>\n",
       "      <td>cosmetics</td>\n",
       "      <td>062000004</td>\n",
       "      <td>31840.0</td>\n",
       "      <td>11.0</td>\n",
       "      <td>407.0</td>\n",
       "      <td>$1638.02</td>\n",
       "      <td>Unknown</td>\n",
       "      <td>41.0</td>\n",
       "      <td>7.0</td>\n",
       "      <td>59.0</td>\n",
       "      <td>...</td>\n",
       "      <td>6.0</td>\n",
       "      <td>599.0</td>\n",
       "      <td>15.0</td>\n",
       "      <td>$67.15</td>\n",
       "      <td>Fail</td>\n",
       "      <td>0.52</td>\n",
       "      <td>Rail</td>\n",
       "      <td>c</td>\n",
       "      <td>NaN</td>\n",
       "      <td>1365082.0</td>\n",
       "    </tr>\n",
       "    <tr>\n",
       "      <th>2</th>\n",
       "      <td>haircare</td>\n",
       "      <td>062000002</td>\n",
       "      <td>78270.0</td>\n",
       "      <td>10.0</td>\n",
       "      <td>399.0</td>\n",
       "      <td>NaN</td>\n",
       "      <td>Male</td>\n",
       "      <td>66.0</td>\n",
       "      <td>26.0</td>\n",
       "      <td>81.0</td>\n",
       "      <td>...</td>\n",
       "      <td>12.0</td>\n",
       "      <td>721.0</td>\n",
       "      <td>28.0</td>\n",
       "      <td>$49.86</td>\n",
       "      <td>NaN</td>\n",
       "      <td>1.27</td>\n",
       "      <td>Road</td>\n",
       "      <td>a</td>\n",
       "      <td>996.28</td>\n",
       "      <td>0.0</td>\n",
       "    </tr>\n",
       "    <tr>\n",
       "      <th>3</th>\n",
       "      <td>haircare</td>\n",
       "      <td>062000003</td>\n",
       "      <td>NaN</td>\n",
       "      <td>15.0</td>\n",
       "      <td>923.0</td>\n",
       "      <td>$9417.67</td>\n",
       "      <td>Non-binary</td>\n",
       "      <td>25.0</td>\n",
       "      <td>26.0</td>\n",
       "      <td>NaN</td>\n",
       "      <td>...</td>\n",
       "      <td>11.0</td>\n",
       "      <td>NaN</td>\n",
       "      <td>12.0</td>\n",
       "      <td>$54.2</td>\n",
       "      <td>Fail</td>\n",
       "      <td>NaN</td>\n",
       "      <td>Sea</td>\n",
       "      <td>C route</td>\n",
       "      <td>817.38</td>\n",
       "      <td>0.0</td>\n",
       "    </tr>\n",
       "    <tr>\n",
       "      <th>4</th>\n",
       "      <td>cosmetics</td>\n",
       "      <td>062000007</td>\n",
       "      <td>22790.0</td>\n",
       "      <td>17.0</td>\n",
       "      <td>715.0</td>\n",
       "      <td>$8656.12</td>\n",
       "      <td>Non-binary</td>\n",
       "      <td>58.0</td>\n",
       "      <td>24.0</td>\n",
       "      <td>79.0</td>\n",
       "      <td>...</td>\n",
       "      <td>16.0</td>\n",
       "      <td>168.0</td>\n",
       "      <td>21.0</td>\n",
       "      <td>$71.42</td>\n",
       "      <td>Pending</td>\n",
       "      <td>3.35</td>\n",
       "      <td>Rail</td>\n",
       "      <td>b</td>\n",
       "      <td>407.65</td>\n",
       "      <td>0.0</td>\n",
       "    </tr>\n",
       "  </tbody>\n",
       "</table>\n",
       "<p>5 rows × 25 columns</p>\n",
       "</div>"
      ],
      "text/plain": [
       "  Product type        SKU  Estimated price  Availability  \\\n",
       "0    cosmetics  062000005           4350.0          98.0   \n",
       "1    cosmetics  062000004          31840.0          11.0   \n",
       "2     haircare  062000002          78270.0          10.0   \n",
       "3     haircare  062000003              NaN          15.0   \n",
       "4    cosmetics  062000007          22790.0          17.0   \n",
       "\n",
       "   Number of products sold Revenue generated Customer demographics  \\\n",
       "0                    216.0          $5513.64                   NaN   \n",
       "1                    407.0          $1638.02               Unknown   \n",
       "2                    399.0               NaN                  Male   \n",
       "3                    923.0          $9417.67            Non-binary   \n",
       "4                    715.0          $8656.12            Non-binary   \n",
       "\n",
       "   Stock levels  Lead times  Order quantities  ...  Lead time  \\\n",
       "0          28.0         5.0              16.0  ...       28.0   \n",
       "1          41.0         7.0              59.0  ...        6.0   \n",
       "2          66.0        26.0              81.0  ...       12.0   \n",
       "3          25.0        26.0               NaN  ...       11.0   \n",
       "4          58.0        24.0              79.0  ...       16.0   \n",
       "\n",
       "  Production volumes Manufacturing lead time Manufacturing costs  \\\n",
       "0              406.0                     9.0              $98.49   \n",
       "1              599.0                    15.0              $67.15   \n",
       "2              721.0                    28.0              $49.86   \n",
       "3                NaN                    12.0               $54.2   \n",
       "4              168.0                    21.0              $71.42   \n",
       "\n",
       "  Inspection results  Defect rates  Transportation modes   Routes   Costs  \\\n",
       "0               Fail          3.27                  Rail  A route  329.95   \n",
       "1               Fail          0.52                  Rail        c     NaN   \n",
       "2                NaN          1.27                  Road        a  996.28   \n",
       "3               Fail           NaN                   Sea  C route  817.38   \n",
       "4            Pending          3.35                  Rail        b  407.65   \n",
       "\n",
       "   Demurrage  \n",
       "0        0.0  \n",
       "1  1365082.0  \n",
       "2        0.0  \n",
       "3        0.0  \n",
       "4        0.0  \n",
       "\n",
       "[5 rows x 25 columns]"
      ]
     },
     "execution_count": 136,
     "metadata": {},
     "output_type": "execute_result"
    }
   ],
   "source": [
    "# Data glance\n",
    "supply_ch_df_raw.head()"
   ]
  },
  {
   "cell_type": "code",
   "execution_count": 137,
   "metadata": {},
   "outputs": [
    {
     "name": "stdout",
     "output_type": "stream",
     "text": [
      "<class 'pandas.core.frame.DataFrame'>\n",
      "RangeIndex: 10000 entries, 0 to 9999\n",
      "Data columns (total 25 columns):\n",
      " #   Column                   Non-Null Count  Dtype  \n",
      "---  ------                   --------------  -----  \n",
      " 0   Product type             9170 non-null   object \n",
      " 1   SKU                      10000 non-null  object \n",
      " 2   Estimated price          9470 non-null   float64\n",
      " 3   Availability             9230 non-null   float64\n",
      " 4   Number of products sold  9150 non-null   float64\n",
      " 5   Revenue generated        9250 non-null   object \n",
      " 6   Customer demographics    9330 non-null   object \n",
      " 7   Stock levels             9450 non-null   float64\n",
      " 8   Lead times               9310 non-null   float64\n",
      " 9   Order quantities         9430 non-null   float64\n",
      " 10  Shipping times           9110 non-null   float64\n",
      " 11  Shipping carriers        9260 non-null   object \n",
      " 12  Shipping costs           9160 non-null   object \n",
      " 13  Supplier name            9080 non-null   object \n",
      " 14  Location                 9280 non-null   object \n",
      " 15  Lead time                9050 non-null   float64\n",
      " 16  Production volumes       9300 non-null   float64\n",
      " 17  Manufacturing lead time  9430 non-null   float64\n",
      " 18  Manufacturing costs      9320 non-null   object \n",
      " 19  Inspection results       9370 non-null   object \n",
      " 20  Defect rates             9410 non-null   float64\n",
      " 21  Transportation modes     9080 non-null   object \n",
      " 22  Routes                   9160 non-null   object \n",
      " 23  Costs                    9410 non-null   float64\n",
      " 24  Demurrage                9200 non-null   float64\n",
      "dtypes: float64(13), object(12)\n",
      "memory usage: 1.9+ MB\n"
     ]
    }
   ],
   "source": [
    "# Data info\n",
    "supply_ch_df_raw.info()"
   ]
  },
  {
   "cell_type": "markdown",
   "metadata": {},
   "source": [
    "---"
   ]
  },
  {
   "cell_type": "markdown",
   "metadata": {},
   "source": [
    "#### Dataset unique values"
   ]
  },
  {
   "cell_type": "code",
   "execution_count": 138,
   "metadata": {},
   "outputs": [
    {
     "data": {
      "text/plain": [
       "Product type                   3\n",
       "SKU                        10000\n",
       "Estimated price             6106\n",
       "Availability                  99\n",
       "Number of products sold      999\n",
       "Revenue generated           9205\n",
       "Customer demographics          4\n",
       "Stock levels                  99\n",
       "Lead times                    29\n",
       "Order quantities              99\n",
       "Shipping times                 9\n",
       "Shipping carriers              3\n",
       "Shipping costs               901\n",
       "Supplier name                  5\n",
       "Location                       5\n",
       "Lead time                     29\n",
       "Production volumes           900\n",
       "Manufacturing lead time       29\n",
       "Manufacturing costs         5798\n",
       "Inspection results             3\n",
       "Defect rates                 501\n",
       "Transportation modes           4\n",
       "Routes                        15\n",
       "Costs                       8920\n",
       "Demurrage                   3666\n",
       "dtype: int64"
      ]
     },
     "execution_count": 138,
     "metadata": {},
     "output_type": "execute_result"
    }
   ],
   "source": [
    "# Number of unique values per column\n",
    "supply_ch_df_raw.nunique()"
   ]
  },
  {
   "cell_type": "code",
   "execution_count": 139,
   "metadata": {},
   "outputs": [
    {
     "name": "stdout",
     "output_type": "stream",
     "text": [
      "Unique values in 'Product type':\n",
      " ['cosmetics' 'haircare' 'skincare' nan]\n",
      "\n",
      "Unique values in 'Availability':\n",
      " [98. 11. 10. 15. 17. 40. 18. 55. nan 25. 78. 89. 22. 30. 84. 85. 44. 32.\n",
      " 51. 46. 21. 99. 94. 39. 12. 47. 13.  8.  7. 23. 96. 75. 86. 92. 29.  2.\n",
      " 79. 52. 27. 50. 95. 88. 77. 43. 37. 61. 97. 56.  3. 63. 19. 58. 16. 72.\n",
      "  1.  5. 65.  4. 64. 91. 41.  9. 36. 90. 54. 81. 14. 34. 53. 20. 70. 83.\n",
      " 24. 74. 38. 57. 45. 71. 93. 82. 31. 60. 49. 76. 48. 33. 69. 26. 35. 80.\n",
      " 73. 68. 42. 87. 28. 66. 59.  6. 62. 67.]\n",
      "\n",
      "Unique values in 'Customer demographics':\n",
      " [nan 'Unknown' 'Male' 'Non-binary' 'Female']\n",
      "\n",
      "Unique values in 'Stock levels':\n",
      " [28. 41. 66. 25. 58.  6. 75. 38. 45. 14. 40.  3. 99. 97. nan 19. 18. 64.\n",
      " 88. 35. 62.  1. 49. 98. 89. 16. 93. 23. 83. 54. 73. 42. 34. 80. 55. 21.\n",
      " 70. 96. 48. 39. 31. 10. 30. 60. 15.  4. 63.  9. 26. 81. 52. 69.  5. 20.\n",
      " 79.  2. 13. 74. 61. 95.  8. 67. 94. 11. 36. 12. 37. 71. 56. 85. 29. 78.\n",
      " 90. 92. 82. 84. 86. 59. 68.  7. 51. 72. 17. 77. 27. 24. 87. 46. 91. 44.\n",
      " 33. 50. 47. 32. 22. 43. 65. 76. 57. 53.]\n",
      "\n",
      "Unique values in 'Lead times':\n",
      " [ 5.  7. 26. 24. 12. 16. 23.  8. 28.  9. 15. 13. 11. 10. 20. 21. 14. 18.\n",
      " nan  3.  4.  6.  1. 29. 17. 27. 25. 22.  2. 19.]\n",
      "\n",
      "Unique values in 'Order quantities':\n",
      " [16. 59. 81. nan 79. 15. 98. 11. 65. 90. 68. 43. 69. 99. 13. 10. 75. 82.\n",
      " 41. 50. 87. 71. 39.  3. 76.  7. 49. 26. 48.  2. 32.  4. 20. 28. 77.  1.\n",
      " 60. 56. 35. 30. 54. 36. 89. 80. 58. 83. 51. 22. 88. 53. 52. 18. 66. 21.\n",
      " 47. 29. 85. 17. 31. 73. 95. 78. 14. 97. 84. 12.  5. 74. 45.  9. 33. 62.\n",
      " 57. 25.  6. 42. 93. 44. 64. 92. 37.  8. 67. 46. 55. 61. 96. 34. 70. 24.\n",
      " 94. 19. 72. 27. 40. 23. 38. 91. 63. 86.]\n",
      "\n",
      "Unique values in 'Shipping times':\n",
      " [ 6.  7.  4.  8.  1.  9.  2. nan  5.  3.]\n",
      "\n",
      "Unique values in 'Shipping carriers':\n",
      " ['Carrier C' 'Carrier B' 'Carrier A' nan]\n",
      "\n",
      "Unique values in 'Supplier name':\n",
      " ['Supplier 1' 'Supplier 5' nan 'Supplier 3' 'Supplier 4' 'Supplier 2']\n",
      "\n",
      "Unique values in 'Location':\n",
      " ['Kolkata' nan 'Bangalore' 'Chennai' 'Mumbai' 'Delhi']\n",
      "\n",
      "Unique values in 'Lead time':\n",
      " [28.  6. 12. 11. 16. 20. 17.  9.  1. 26.  3. 21. 23. 22. 19. 13. 14. 27.\n",
      " nan  4.  2. 18.  8. 15. 24.  7.  5. 10. 25. 29.]\n",
      "\n",
      "Unique values in 'Manufacturing lead time':\n",
      " [ 9. 15. 28. 12. 21. 27. 26. 14. nan  6. 19.  4. 17.  3. 29. 13.  1. 25.\n",
      " 16. 18.  2. 22. 23.  8. 20.  7.  5. 24. 11. 10.]\n",
      "\n",
      "Unique values in 'Inspection results':\n",
      " ['Fail' nan 'Pending' 'Pass']\n",
      "\n",
      "Unique values in 'Transportation modes':\n",
      " ['Rail' 'Road' 'Sea' 'Air' nan]\n",
      "\n",
      "Unique values in 'Routes':\n",
      " ['A route' 'c' 'a' 'C route' 'b' 'route_C' 'A' 'C' 'route_A' 'route_B' nan\n",
      " 'routeB' 'routeC' 'B route' 'B' 'routeA']\n",
      "\n"
     ]
    }
   ],
   "source": [
    "# List of columns to get unique values for\n",
    "columns_to_check = [\n",
    "    'Product type', 'Availability', 'Customer demographics', 'Stock levels', 'Lead times', \n",
    "    'Order quantities', 'Shipping times', 'Shipping carriers', 'Supplier name', 'Location', \n",
    "    'Lead time', 'Manufacturing lead time', 'Inspection results', 'Transportation modes', 'Routes'\n",
    "]\n",
    "\n",
    "# Iterate over the columns and print unique values\n",
    "for column in columns_to_check:\n",
    "    unique_values = supply_ch_df_raw[column].unique()\n",
    "    print(f\"Unique values in '{column}':\\n {unique_values}\\n\")"
   ]
  },
  {
   "cell_type": "markdown",
   "metadata": {},
   "source": [
    "This unique values validation gives us an idea that there may not be any repeated columns since the SKUs (shipments IDs) are unique in all records."
   ]
  },
  {
   "cell_type": "markdown",
   "metadata": {},
   "source": [
    "---"
   ]
  },
  {
   "cell_type": "markdown",
   "metadata": {},
   "source": [
    "### Dataset missing missing values"
   ]
  },
  {
   "cell_type": "code",
   "execution_count": 140,
   "metadata": {},
   "outputs": [
    {
     "name": "stdout",
     "output_type": "stream",
     "text": [
      "\n",
      "Missing values in each column:\n"
     ]
    },
    {
     "data": {
      "text/plain": [
       "Product type               830\n",
       "SKU                          0\n",
       "Estimated price            530\n",
       "Availability               770\n",
       "Number of products sold    850\n",
       "Revenue generated          750\n",
       "Customer demographics      670\n",
       "Stock levels               550\n",
       "Lead times                 690\n",
       "Order quantities           570\n",
       "Shipping times             890\n",
       "Shipping carriers          740\n",
       "Shipping costs             840\n",
       "Supplier name              920\n",
       "Location                   720\n",
       "Lead time                  950\n",
       "Production volumes         700\n",
       "Manufacturing lead time    570\n",
       "Manufacturing costs        680\n",
       "Inspection results         630\n",
       "Defect rates               590\n",
       "Transportation modes       920\n",
       "Routes                     840\n",
       "Costs                      590\n",
       "Demurrage                  800\n",
       "dtype: int64"
      ]
     },
     "metadata": {},
     "output_type": "display_data"
    }
   ],
   "source": [
    "# Checking missing value count in each column\n",
    "print(\"\\nMissing values in each column:\")\n",
    "missing_values = supply_ch_df_raw.isnull().sum()\n",
    "display(missing_values)"
   ]
  },
  {
   "cell_type": "code",
   "execution_count": 141,
   "metadata": {},
   "outputs": [
    {
     "name": "stdout",
     "output_type": "stream",
     "text": [
      "Percentage of null values per column:\n",
      " Product type               8.3\n",
      "SKU                        0.0\n",
      "Estimated price            5.3\n",
      "Availability               7.7\n",
      "Number of products sold    8.5\n",
      "Revenue generated          7.5\n",
      "Customer demographics      6.7\n",
      "Stock levels               5.5\n",
      "Lead times                 6.9\n",
      "Order quantities           5.7\n",
      "Shipping times             8.9\n",
      "Shipping carriers          7.4\n",
      "Shipping costs             8.4\n",
      "Supplier name              9.2\n",
      "Location                   7.2\n",
      "Lead time                  9.5\n",
      "Production volumes         7.0\n",
      "Manufacturing lead time    5.7\n",
      "Manufacturing costs        6.8\n",
      "Inspection results         6.3\n",
      "Defect rates               5.9\n",
      "Transportation modes       9.2\n",
      "Routes                     8.4\n",
      "Costs                      5.9\n",
      "Demurrage                  8.0\n",
      "dtype: float64\n",
      "Overall percentage of null values: 7.0360000000000005%\n",
      "Number of empty rows: 0\n"
     ]
    }
   ],
   "source": [
    "# Calculate the percentage of null values for each column\n",
    "null_percentage_per_column = supply_ch_df_raw.isnull().mean() * 100\n",
    "print(\"Percentage of null values per column:\\n\", null_percentage_per_column)\n",
    "\n",
    "# Calculate the overall percentage of null values in the entire dataset\n",
    "total_null_values = supply_ch_df_raw.isnull().sum().sum()\n",
    "total_values = supply_ch_df_raw.size\n",
    "overall_null_percentage = (total_null_values / total_values) * 100\n",
    "print(f'Overall percentage of null values: {overall_null_percentage}%')\n",
    "\n",
    "# Check for empty rows\n",
    "rows_with_null = sum(supply_ch_df_raw.isnull().all(axis=1))\n",
    "print(f'Number of empty rows: {rows_with_null}')\n"
   ]
  },
  {
   "cell_type": "markdown",
   "metadata": {},
   "source": [
    "---"
   ]
  },
  {
   "cell_type": "markdown",
   "metadata": {},
   "source": [
    "### Initial Handling of Missing Values\n",
    "\n",
    "-- drop since it is repeated\n",
    "Lead time\n",
    "\n",
    "-- fill with 0\n",
    "Demurrage\n",
    "\n",
    "-- fill with ''\n",
    "Product type\n",
    "\n",
    "-- fill with $0\n",
    "Revenue generated\n",
    "Shipping costs\n",
    "Manufacturing costs\n",
    "\n",
    "-- fill with 'Unknown'\n",
    "Customer demographics\n",
    "Shipping carriers \n",
    "Supplier name \n",
    "Location\n",
    "Inspection results\n",
    "Transportation modes\n",
    "Routes \n",
    "\n",
    "\n",
    "-- median impute\n",
    "Availability\n",
    "Number of products sold\n",
    "Stock levels\n",
    "Lead times\n",
    "Order quantities\n",
    "Shipping times \n",
    "Production volumes\n",
    "Manufacturing lead time \n",
    "Estimated price\n",
    "Manufacturing lead time\n",
    "Manufacturing costs\n",
    "Defect rates\n",
    "Costs"
   ]
  },
  {
   "cell_type": "code",
   "execution_count": 142,
   "metadata": {},
   "outputs": [
    {
     "name": "stdout",
     "output_type": "stream",
     "text": [
      "<class 'pandas.core.frame.DataFrame'>\n",
      "RangeIndex: 10000 entries, 0 to 9999\n",
      "Data columns (total 25 columns):\n",
      " #   Column                   Non-Null Count  Dtype  \n",
      "---  ------                   --------------  -----  \n",
      " 0   Product type             9170 non-null   object \n",
      " 1   SKU                      10000 non-null  object \n",
      " 2   Estimated price          9470 non-null   float64\n",
      " 3   Availability             9230 non-null   float64\n",
      " 4   Number of products sold  9150 non-null   float64\n",
      " 5   Revenue generated        9250 non-null   object \n",
      " 6   Customer demographics    9330 non-null   object \n",
      " 7   Stock levels             9450 non-null   float64\n",
      " 8   Lead times               9310 non-null   float64\n",
      " 9   Order quantities         9430 non-null   float64\n",
      " 10  Shipping times           9110 non-null   float64\n",
      " 11  Shipping carriers        9260 non-null   object \n",
      " 12  Shipping costs           9160 non-null   object \n",
      " 13  Supplier name            9080 non-null   object \n",
      " 14  Location                 9280 non-null   object \n",
      " 15  Lead time                9050 non-null   float64\n",
      " 16  Production volumes       9300 non-null   float64\n",
      " 17  Manufacturing lead time  9430 non-null   float64\n",
      " 18  Manufacturing costs      9320 non-null   object \n",
      " 19  Inspection results       9370 non-null   object \n",
      " 20  Defect rates             9410 non-null   float64\n",
      " 21  Transportation modes     9080 non-null   object \n",
      " 22  Routes                   9160 non-null   object \n",
      " 23  Costs                    9410 non-null   float64\n",
      " 24  Demurrage                9200 non-null   float64\n",
      "dtypes: float64(13), object(12)\n",
      "memory usage: 1.9+ MB\n"
     ]
    }
   ],
   "source": [
    "supply_ch_df_raw.info()"
   ]
  },
  {
   "cell_type": "code",
   "execution_count": 143,
   "metadata": {},
   "outputs": [],
   "source": [
    "# Drop the 'Lead time' column since it is repeated\n",
    "supply_ch_df_raw.drop(columns=['Lead time'], inplace=True)\n",
    "\n",
    "# Fill with 0\n",
    "supply_ch_df_raw['Demurrage'].fillna(0, inplace=True)\n",
    "\n",
    "# Fill with '$0'\n",
    "supply_ch_df_raw['Revenue generated'].fillna('$0', inplace=True)\n",
    "supply_ch_df_raw['Shipping costs'].fillna('$0', inplace=True)\n",
    "supply_ch_df_raw['Manufacturing costs'].fillna('$0', inplace=True)\n",
    "\n",
    "# Fill with 'Unknown'\n",
    "columns_to_fill_unknown = [\n",
    "    'Customer demographics', 'Shipping carriers', 'Supplier name', \n",
    "    'Location', 'Inspection results', 'Transportation modes', 'Routes'\n",
    "]\n",
    "supply_ch_df_raw[columns_to_fill_unknown] = supply_ch_df_raw[columns_to_fill_unknown].fillna('Unknown')\n",
    "\n",
    "# Median impute\n",
    "columns_to_median_impute = [\n",
    "    'Availability', 'Number of products sold', 'Stock levels', 'Lead times', 'Costs',\n",
    "    'Order quantities', 'Shipping times', 'Production volumes', 'Defect rates',\n",
    "    'Manufacturing lead time', 'Estimated price', 'Manufacturing lead time'\n",
    "]\n",
    "for column in columns_to_median_impute:\n",
    "    median_value = supply_ch_df_raw[column].median()\n",
    "    supply_ch_df_raw[column].fillna(median_value, inplace=True)"
   ]
  },
  {
   "cell_type": "markdown",
   "metadata": {},
   "source": [
    "---"
   ]
  },
  {
   "cell_type": "markdown",
   "metadata": {},
   "source": [
    "### Handling Remaining Missing values"
   ]
  },
  {
   "cell_type": "markdown",
   "metadata": {},
   "source": [
    "**DW-1: Dropping null values**\n",
    "\n",
    "Given that the percentage of null values in the dataset is less than 7% overall, we will drop those rows with null values for the data cleaning"
   ]
  },
  {
   "cell_type": "code",
   "execution_count": 144,
   "metadata": {},
   "outputs": [
    {
     "name": "stdout",
     "output_type": "stream",
     "text": [
      "<class 'pandas.core.frame.DataFrame'>\n",
      "RangeIndex: 10000 entries, 0 to 9999\n",
      "Data columns (total 24 columns):\n",
      " #   Column                   Non-Null Count  Dtype  \n",
      "---  ------                   --------------  -----  \n",
      " 0   Product type             9170 non-null   object \n",
      " 1   SKU                      10000 non-null  object \n",
      " 2   Estimated price          10000 non-null  float64\n",
      " 3   Availability             10000 non-null  float64\n",
      " 4   Number of products sold  10000 non-null  float64\n",
      " 5   Revenue generated        10000 non-null  object \n",
      " 6   Customer demographics    10000 non-null  object \n",
      " 7   Stock levels             10000 non-null  float64\n",
      " 8   Lead times               10000 non-null  float64\n",
      " 9   Order quantities         10000 non-null  float64\n",
      " 10  Shipping times           10000 non-null  float64\n",
      " 11  Shipping carriers        10000 non-null  object \n",
      " 12  Shipping costs           10000 non-null  object \n",
      " 13  Supplier name            10000 non-null  object \n",
      " 14  Location                 10000 non-null  object \n",
      " 15  Production volumes       10000 non-null  float64\n",
      " 16  Manufacturing lead time  10000 non-null  float64\n",
      " 17  Manufacturing costs      10000 non-null  object \n",
      " 18  Inspection results       10000 non-null  object \n",
      " 19  Defect rates             10000 non-null  float64\n",
      " 20  Transportation modes     10000 non-null  object \n",
      " 21  Routes                   10000 non-null  object \n",
      " 22  Costs                    10000 non-null  float64\n",
      " 23  Demurrage                10000 non-null  float64\n",
      "dtypes: float64(12), object(12)\n",
      "memory usage: 1.8+ MB\n"
     ]
    }
   ],
   "source": [
    "df = supply_ch_df_raw.copy()\n",
    "df.info()"
   ]
  },
  {
   "cell_type": "code",
   "execution_count": 145,
   "metadata": {},
   "outputs": [],
   "source": [
    "# Dropping rows with null values\n",
    "supply_ch_df_cleaned = supply_ch_df_raw.dropna(axis=0)"
   ]
  },
  {
   "cell_type": "code",
   "execution_count": 146,
   "metadata": {},
   "outputs": [
    {
     "name": "stdout",
     "output_type": "stream",
     "text": [
      "<class 'pandas.core.frame.DataFrame'>\n",
      "Index: 9170 entries, 0 to 9999\n",
      "Data columns (total 24 columns):\n",
      " #   Column                   Non-Null Count  Dtype  \n",
      "---  ------                   --------------  -----  \n",
      " 0   Product type             9170 non-null   object \n",
      " 1   SKU                      9170 non-null   object \n",
      " 2   Estimated price          9170 non-null   float64\n",
      " 3   Availability             9170 non-null   float64\n",
      " 4   Number of products sold  9170 non-null   float64\n",
      " 5   Revenue generated        9170 non-null   object \n",
      " 6   Customer demographics    9170 non-null   object \n",
      " 7   Stock levels             9170 non-null   float64\n",
      " 8   Lead times               9170 non-null   float64\n",
      " 9   Order quantities         9170 non-null   float64\n",
      " 10  Shipping times           9170 non-null   float64\n",
      " 11  Shipping carriers        9170 non-null   object \n",
      " 12  Shipping costs           9170 non-null   object \n",
      " 13  Supplier name            9170 non-null   object \n",
      " 14  Location                 9170 non-null   object \n",
      " 15  Production volumes       9170 non-null   float64\n",
      " 16  Manufacturing lead time  9170 non-null   float64\n",
      " 17  Manufacturing costs      9170 non-null   object \n",
      " 18  Inspection results       9170 non-null   object \n",
      " 19  Defect rates             9170 non-null   float64\n",
      " 20  Transportation modes     9170 non-null   object \n",
      " 21  Routes                   9170 non-null   object \n",
      " 22  Costs                    9170 non-null   float64\n",
      " 23  Demurrage                9170 non-null   float64\n",
      "dtypes: float64(12), object(12)\n",
      "memory usage: 1.7+ MB\n"
     ]
    }
   ],
   "source": [
    "supply_ch_df_cleaned.info()"
   ]
  },
  {
   "cell_type": "markdown",
   "metadata": {},
   "source": [
    "---"
   ]
  },
  {
   "cell_type": "markdown",
   "metadata": {},
   "source": [
    "### Handling Data Types"
   ]
  },
  {
   "cell_type": "markdown",
   "metadata": {},
   "source": [
    "Given the information obtain from the initial basic inspection in the dataset, almost all columns seem to be ad-hoc with their data types. However, there are a couple of columns that need further adjstments."
   ]
  },
  {
   "cell_type": "markdown",
   "metadata": {},
   "source": [
    "**DW-2: Special characters in currency columns**\n",
    "\n",
    "Columns like `Revenue generated`, `Shipping costs` and `Manufacturing costs` have dollar signs in their numerical values. Therefore, they need transformation for proper processing."
   ]
  },
  {
   "cell_type": "code",
   "execution_count": 147,
   "metadata": {},
   "outputs": [
    {
     "data": {
      "text/html": [
       "<div>\n",
       "<style scoped>\n",
       "    .dataframe tbody tr th:only-of-type {\n",
       "        vertical-align: middle;\n",
       "    }\n",
       "\n",
       "    .dataframe tbody tr th {\n",
       "        vertical-align: top;\n",
       "    }\n",
       "\n",
       "    .dataframe thead th {\n",
       "        text-align: right;\n",
       "    }\n",
       "</style>\n",
       "<table border=\"1\" class=\"dataframe\">\n",
       "  <thead>\n",
       "    <tr style=\"text-align: right;\">\n",
       "      <th></th>\n",
       "      <th>Revenue generated</th>\n",
       "      <th>Shipping costs</th>\n",
       "      <th>Manufacturing costs</th>\n",
       "    </tr>\n",
       "  </thead>\n",
       "  <tbody>\n",
       "    <tr>\n",
       "      <th>0</th>\n",
       "      <td>$5513.64</td>\n",
       "      <td>$320.00</td>\n",
       "      <td>$98.49</td>\n",
       "    </tr>\n",
       "    <tr>\n",
       "      <th>1</th>\n",
       "      <td>$1638.02</td>\n",
       "      <td>$713.00</td>\n",
       "      <td>$67.15</td>\n",
       "    </tr>\n",
       "    <tr>\n",
       "      <th>2</th>\n",
       "      <td>$0</td>\n",
       "      <td>$209.00</td>\n",
       "      <td>$49.86</td>\n",
       "    </tr>\n",
       "    <tr>\n",
       "      <th>3</th>\n",
       "      <td>$9417.67</td>\n",
       "      <td>$202.00</td>\n",
       "      <td>$54.2</td>\n",
       "    </tr>\n",
       "    <tr>\n",
       "      <th>4</th>\n",
       "      <td>$8656.12</td>\n",
       "      <td>$470.00</td>\n",
       "      <td>$71.42</td>\n",
       "    </tr>\n",
       "  </tbody>\n",
       "</table>\n",
       "</div>"
      ],
      "text/plain": [
       "  Revenue generated Shipping costs Manufacturing costs\n",
       "0          $5513.64        $320.00              $98.49\n",
       "1          $1638.02        $713.00              $67.15\n",
       "2                $0        $209.00              $49.86\n",
       "3          $9417.67        $202.00               $54.2\n",
       "4          $8656.12        $470.00              $71.42"
      ]
     },
     "execution_count": 147,
     "metadata": {},
     "output_type": "execute_result"
    }
   ],
   "source": [
    "# Verify data\n",
    "supply_ch_df_cleaned[['Revenue generated', 'Shipping costs', 'Manufacturing costs']].head()"
   ]
  },
  {
   "cell_type": "code",
   "execution_count": 148,
   "metadata": {},
   "outputs": [],
   "source": [
    "# Removing dollar sign and passing to numeric type\n",
    "for column in supply_ch_df_cleaned[['Revenue generated', 'Shipping costs', 'Manufacturing costs']]:\n",
    "    supply_ch_df_cleaned.loc[:, column] = supply_ch_df_cleaned.loc[:, column].str.replace('[$,]', '', regex=True).astype(float)"
   ]
  },
  {
   "cell_type": "markdown",
   "metadata": {},
   "source": [
    "---"
   ]
  },
  {
   "cell_type": "markdown",
   "metadata": {},
   "source": [
    "### Handling Consistency in Records"
   ]
  },
  {
   "cell_type": "code",
   "execution_count": 149,
   "metadata": {},
   "outputs": [
    {
     "data": {
      "text/plain": [
       "array(['A route', 'c', 'a', 'C route', 'b', 'route_C', 'A', 'C',\n",
       "       'route_A', 'route_B', 'Unknown', 'routeB', 'routeC', 'B route',\n",
       "       'B', 'routeA'], dtype=object)"
      ]
     },
     "execution_count": 149,
     "metadata": {},
     "output_type": "execute_result"
    }
   ],
   "source": [
    "# Displaying different representations of route instance\n",
    "supply_ch_df_cleaned['Routes'].unique()"
   ]
  },
  {
   "cell_type": "markdown",
   "metadata": {},
   "source": [
    "**DW-3: Different representations of same instances**\n",
    "\n",
    "If we have a closer look to the routes column, we can see that there are multiple representatios of the same route. Therefore, we need to make that homogeneous for the data processing."
   ]
  },
  {
   "cell_type": "code",
   "execution_count": 150,
   "metadata": {},
   "outputs": [],
   "source": [
    "# Mapping dictionary\n",
    "route_mapping = {\n",
    "    'a': 'Route_A', 'A': 'Route_A', 'A route': 'Route_A', 'routeA': 'Route_A', 'route_A': 'Route_A',\n",
    "    'b': 'Route_B', 'B': 'Route_B', 'B route': 'Route_B', 'routeB': 'Route_B', 'route_B': 'Route_B',\n",
    "    'c': 'Route_C', 'C': 'Route_C', 'C route': 'Route_C', 'routeC': 'Route_C', 'route_C': 'Route_C'\n",
    "}\n",
    "\n",
    "# Apply the mapping to the 'Routes' column\n",
    "supply_ch_df_cleaned.loc[:, 'Routes'] = supply_ch_df_cleaned.loc[:, 'Routes'].replace(route_mapping)"
   ]
  },
  {
   "cell_type": "markdown",
   "metadata": {},
   "source": [
    "---"
   ]
  },
  {
   "cell_type": "markdown",
   "metadata": {},
   "source": [
    "### Adding a Classification Target to Dataset"
   ]
  },
  {
   "cell_type": "markdown",
   "metadata": {},
   "source": [
    "**DW-4: Calssification Target**"
   ]
  },
  {
   "cell_type": "code",
   "execution_count": 151,
   "metadata": {},
   "outputs": [
    {
     "name": "stderr",
     "output_type": "stream",
     "text": [
      "C:\\Users\\pablo\\AppData\\Local\\Temp\\ipykernel_18488\\326519590.py:1: SettingWithCopyWarning: \n",
      "A value is trying to be set on a copy of a slice from a DataFrame.\n",
      "Try using .loc[row_indexer,col_indexer] = value instead\n",
      "\n",
      "See the caveats in the documentation: https://pandas.pydata.org/pandas-docs/stable/user_guide/indexing.html#returning-a-view-versus-a-copy\n",
      "  supply_ch_df_cleaned.loc[:, 'Demurrage Bin'] = supply_ch_df_cleaned['Demurrage'] > 0\n"
     ]
    }
   ],
   "source": [
    "supply_ch_df_cleaned.loc[:, 'Demurrage Bin'] = supply_ch_df_cleaned['Demurrage'] > 0"
   ]
  },
  {
   "cell_type": "code",
   "execution_count": 152,
   "metadata": {},
   "outputs": [
    {
     "data": {
      "text/plain": [
       "2"
      ]
     },
     "execution_count": 152,
     "metadata": {},
     "output_type": "execute_result"
    }
   ],
   "source": [
    "supply_ch_df_cleaned['Demurrage Bin'].nunique()"
   ]
  },
  {
   "cell_type": "markdown",
   "metadata": {},
   "source": [
    "### Handling Column Names"
   ]
  },
  {
   "cell_type": "markdown",
   "metadata": {},
   "source": [
    "**DW-5: Renaming Columns**\n",
    "\n",
    "Now that we have the final selected columns in out dataset, we will rename thos so we can avoid pecial characters (if any) and any spaces on them."
   ]
  },
  {
   "cell_type": "code",
   "execution_count": 153,
   "metadata": {},
   "outputs": [
    {
     "data": {
      "text/plain": [
       "Index(['Product type', 'SKU', 'Estimated price', 'Availability',\n",
       "       'Number of products sold', 'Revenue generated', 'Customer demographics',\n",
       "       'Stock levels', 'Lead times', 'Order quantities', 'Shipping times',\n",
       "       'Shipping carriers', 'Shipping costs', 'Supplier name', 'Location',\n",
       "       'Production volumes', 'Manufacturing lead time', 'Manufacturing costs',\n",
       "       'Inspection results', 'Defect rates', 'Transportation modes', 'Routes',\n",
       "       'Costs', 'Demurrage', 'Demurrage Bin'],\n",
       "      dtype='object')"
      ]
     },
     "execution_count": 153,
     "metadata": {},
     "output_type": "execute_result"
    }
   ],
   "source": [
    "supply_ch_df_cleaned.columns"
   ]
  },
  {
   "cell_type": "code",
   "execution_count": 154,
   "metadata": {},
   "outputs": [],
   "source": [
    "# Renaming columns\n",
    "supply_ch_df_cleaned.columns = supply_ch_df_cleaned.columns.str.replace(' ', '_').str.replace(r'\\W', '', regex=True).str.lower()"
   ]
  },
  {
   "cell_type": "markdown",
   "metadata": {},
   "source": [
    "---"
   ]
  },
  {
   "cell_type": "code",
   "execution_count": 155,
   "metadata": {},
   "outputs": [
    {
     "data": {
      "text/html": [
       "<div>\n",
       "<style scoped>\n",
       "    .dataframe tbody tr th:only-of-type {\n",
       "        vertical-align: middle;\n",
       "    }\n",
       "\n",
       "    .dataframe tbody tr th {\n",
       "        vertical-align: top;\n",
       "    }\n",
       "\n",
       "    .dataframe thead th {\n",
       "        text-align: right;\n",
       "    }\n",
       "</style>\n",
       "<table border=\"1\" class=\"dataframe\">\n",
       "  <thead>\n",
       "    <tr style=\"text-align: right;\">\n",
       "      <th></th>\n",
       "      <th>product_type</th>\n",
       "      <th>sku</th>\n",
       "      <th>estimated_price</th>\n",
       "      <th>availability</th>\n",
       "      <th>number_of_products_sold</th>\n",
       "      <th>revenue_generated</th>\n",
       "      <th>customer_demographics</th>\n",
       "      <th>stock_levels</th>\n",
       "      <th>lead_times</th>\n",
       "      <th>order_quantities</th>\n",
       "      <th>...</th>\n",
       "      <th>production_volumes</th>\n",
       "      <th>manufacturing_lead_time</th>\n",
       "      <th>manufacturing_costs</th>\n",
       "      <th>inspection_results</th>\n",
       "      <th>defect_rates</th>\n",
       "      <th>transportation_modes</th>\n",
       "      <th>routes</th>\n",
       "      <th>costs</th>\n",
       "      <th>demurrage</th>\n",
       "      <th>demurrage_bin</th>\n",
       "    </tr>\n",
       "  </thead>\n",
       "  <tbody>\n",
       "    <tr>\n",
       "      <th>9994</th>\n",
       "      <td>haircare</td>\n",
       "      <td>INDI040</td>\n",
       "      <td>77880.0</td>\n",
       "      <td>63.0</td>\n",
       "      <td>290.0</td>\n",
       "      <td>1311.02</td>\n",
       "      <td>Male</td>\n",
       "      <td>99.0</td>\n",
       "      <td>26.0</td>\n",
       "      <td>7.0</td>\n",
       "      <td>...</td>\n",
       "      <td>981.0</td>\n",
       "      <td>8.0</td>\n",
       "      <td>20.92</td>\n",
       "      <td>Pass</td>\n",
       "      <td>3.70</td>\n",
       "      <td>Sea</td>\n",
       "      <td>Route_A</td>\n",
       "      <td>913.81</td>\n",
       "      <td>0.0</td>\n",
       "      <td>False</td>\n",
       "    </tr>\n",
       "    <tr>\n",
       "      <th>9995</th>\n",
       "      <td>cosmetics</td>\n",
       "      <td>INDI042</td>\n",
       "      <td>87360.0</td>\n",
       "      <td>41.0</td>\n",
       "      <td>719.0</td>\n",
       "      <td>4094.14</td>\n",
       "      <td>Unknown</td>\n",
       "      <td>98.0</td>\n",
       "      <td>2.0</td>\n",
       "      <td>26.0</td>\n",
       "      <td>...</td>\n",
       "      <td>299.0</td>\n",
       "      <td>1.0</td>\n",
       "      <td>53.52</td>\n",
       "      <td>Pending</td>\n",
       "      <td>0.74</td>\n",
       "      <td>Air</td>\n",
       "      <td>Route_B</td>\n",
       "      <td>681.55</td>\n",
       "      <td>2094811.0</td>\n",
       "      <td>True</td>\n",
       "    </tr>\n",
       "    <tr>\n",
       "      <th>9997</th>\n",
       "      <td>haircare</td>\n",
       "      <td>INDI046</td>\n",
       "      <td>89580.0</td>\n",
       "      <td>5.0</td>\n",
       "      <td>413.0</td>\n",
       "      <td>1828.6</td>\n",
       "      <td>Unknown</td>\n",
       "      <td>99.0</td>\n",
       "      <td>21.0</td>\n",
       "      <td>67.0</td>\n",
       "      <td>...</td>\n",
       "      <td>667.0</td>\n",
       "      <td>3.0</td>\n",
       "      <td>53.77</td>\n",
       "      <td>Fail</td>\n",
       "      <td>4.81</td>\n",
       "      <td>Sea</td>\n",
       "      <td>Route_B</td>\n",
       "      <td>752.71</td>\n",
       "      <td>0.0</td>\n",
       "      <td>False</td>\n",
       "    </tr>\n",
       "    <tr>\n",
       "      <th>9998</th>\n",
       "      <td>haircare</td>\n",
       "      <td>USLA1001</td>\n",
       "      <td>27120.0</td>\n",
       "      <td>18.0</td>\n",
       "      <td>987.0</td>\n",
       "      <td>3173.07</td>\n",
       "      <td>Male</td>\n",
       "      <td>30.0</td>\n",
       "      <td>24.0</td>\n",
       "      <td>33.0</td>\n",
       "      <td>...</td>\n",
       "      <td>524.0</td>\n",
       "      <td>24.0</td>\n",
       "      <td>13.19</td>\n",
       "      <td>Fail</td>\n",
       "      <td>2.97</td>\n",
       "      <td>Sea</td>\n",
       "      <td>Route_A</td>\n",
       "      <td>956.01</td>\n",
       "      <td>741579.0</td>\n",
       "      <td>True</td>\n",
       "    </tr>\n",
       "    <tr>\n",
       "      <th>9999</th>\n",
       "      <td>skincare</td>\n",
       "      <td>CHNI013</td>\n",
       "      <td>64560.0</td>\n",
       "      <td>31.0</td>\n",
       "      <td>845.0</td>\n",
       "      <td>3575.42</td>\n",
       "      <td>Female</td>\n",
       "      <td>4.0</td>\n",
       "      <td>21.0</td>\n",
       "      <td>69.0</td>\n",
       "      <td>...</td>\n",
       "      <td>493.0</td>\n",
       "      <td>17.0</td>\n",
       "      <td>66.45</td>\n",
       "      <td>Pass</td>\n",
       "      <td>1.30</td>\n",
       "      <td>Air</td>\n",
       "      <td>Route_C</td>\n",
       "      <td>520.45</td>\n",
       "      <td>960097.0</td>\n",
       "      <td>True</td>\n",
       "    </tr>\n",
       "  </tbody>\n",
       "</table>\n",
       "<p>5 rows × 25 columns</p>\n",
       "</div>"
      ],
      "text/plain": [
       "     product_type       sku  estimated_price  availability  \\\n",
       "9994     haircare   INDI040          77880.0          63.0   \n",
       "9995    cosmetics   INDI042          87360.0          41.0   \n",
       "9997     haircare   INDI046          89580.0           5.0   \n",
       "9998     haircare  USLA1001          27120.0          18.0   \n",
       "9999     skincare   CHNI013          64560.0          31.0   \n",
       "\n",
       "      number_of_products_sold revenue_generated customer_demographics  \\\n",
       "9994                    290.0           1311.02                  Male   \n",
       "9995                    719.0           4094.14               Unknown   \n",
       "9997                    413.0            1828.6               Unknown   \n",
       "9998                    987.0           3173.07                  Male   \n",
       "9999                    845.0           3575.42                Female   \n",
       "\n",
       "      stock_levels  lead_times  order_quantities  ...  production_volumes  \\\n",
       "9994          99.0        26.0               7.0  ...               981.0   \n",
       "9995          98.0         2.0              26.0  ...               299.0   \n",
       "9997          99.0        21.0              67.0  ...               667.0   \n",
       "9998          30.0        24.0              33.0  ...               524.0   \n",
       "9999           4.0        21.0              69.0  ...               493.0   \n",
       "\n",
       "     manufacturing_lead_time manufacturing_costs inspection_results  \\\n",
       "9994                     8.0               20.92               Pass   \n",
       "9995                     1.0               53.52            Pending   \n",
       "9997                     3.0               53.77               Fail   \n",
       "9998                    24.0               13.19               Fail   \n",
       "9999                    17.0               66.45               Pass   \n",
       "\n",
       "     defect_rates  transportation_modes   routes   costs  demurrage  \\\n",
       "9994         3.70                   Sea  Route_A  913.81        0.0   \n",
       "9995         0.74                   Air  Route_B  681.55  2094811.0   \n",
       "9997         4.81                   Sea  Route_B  752.71        0.0   \n",
       "9998         2.97                   Sea  Route_A  956.01   741579.0   \n",
       "9999         1.30                   Air  Route_C  520.45   960097.0   \n",
       "\n",
       "      demurrage_bin  \n",
       "9994          False  \n",
       "9995           True  \n",
       "9997          False  \n",
       "9998           True  \n",
       "9999           True  \n",
       "\n",
       "[5 rows x 25 columns]"
      ]
     },
     "execution_count": 155,
     "metadata": {},
     "output_type": "execute_result"
    }
   ],
   "source": [
    "supply_ch_df_cleaned.tail()"
   ]
  },
  {
   "cell_type": "markdown",
   "metadata": {},
   "source": [
    "---"
   ]
  },
  {
   "cell_type": "markdown",
   "metadata": {},
   "source": [
    "### DW - Data Cleaning Validations"
   ]
  },
  {
   "cell_type": "code",
   "execution_count": 156,
   "metadata": {},
   "outputs": [
    {
     "data": {
      "text/html": [
       "<div>\n",
       "<style scoped>\n",
       "    .dataframe tbody tr th:only-of-type {\n",
       "        vertical-align: middle;\n",
       "    }\n",
       "\n",
       "    .dataframe tbody tr th {\n",
       "        vertical-align: top;\n",
       "    }\n",
       "\n",
       "    .dataframe thead th {\n",
       "        text-align: right;\n",
       "    }\n",
       "</style>\n",
       "<table border=\"1\" class=\"dataframe\">\n",
       "  <thead>\n",
       "    <tr style=\"text-align: right;\">\n",
       "      <th></th>\n",
       "      <th>product_type</th>\n",
       "      <th>sku</th>\n",
       "      <th>estimated_price</th>\n",
       "      <th>availability</th>\n",
       "      <th>number_of_products_sold</th>\n",
       "      <th>revenue_generated</th>\n",
       "      <th>customer_demographics</th>\n",
       "      <th>stock_levels</th>\n",
       "      <th>lead_times</th>\n",
       "      <th>order_quantities</th>\n",
       "      <th>...</th>\n",
       "      <th>production_volumes</th>\n",
       "      <th>manufacturing_lead_time</th>\n",
       "      <th>manufacturing_costs</th>\n",
       "      <th>inspection_results</th>\n",
       "      <th>defect_rates</th>\n",
       "      <th>transportation_modes</th>\n",
       "      <th>routes</th>\n",
       "      <th>costs</th>\n",
       "      <th>demurrage</th>\n",
       "      <th>demurrage_bin</th>\n",
       "    </tr>\n",
       "  </thead>\n",
       "  <tbody>\n",
       "    <tr>\n",
       "      <th>0</th>\n",
       "      <td>cosmetics</td>\n",
       "      <td>062000005</td>\n",
       "      <td>4350.0</td>\n",
       "      <td>98.0</td>\n",
       "      <td>216.0</td>\n",
       "      <td>5513.64</td>\n",
       "      <td>Unknown</td>\n",
       "      <td>28.0</td>\n",
       "      <td>5.0</td>\n",
       "      <td>16.0</td>\n",
       "      <td>...</td>\n",
       "      <td>406.0</td>\n",
       "      <td>9.0</td>\n",
       "      <td>98.49</td>\n",
       "      <td>Fail</td>\n",
       "      <td>3.27</td>\n",
       "      <td>Rail</td>\n",
       "      <td>Route_A</td>\n",
       "      <td>329.950</td>\n",
       "      <td>0.0</td>\n",
       "      <td>False</td>\n",
       "    </tr>\n",
       "    <tr>\n",
       "      <th>1</th>\n",
       "      <td>cosmetics</td>\n",
       "      <td>062000004</td>\n",
       "      <td>31840.0</td>\n",
       "      <td>11.0</td>\n",
       "      <td>407.0</td>\n",
       "      <td>1638.02</td>\n",
       "      <td>Unknown</td>\n",
       "      <td>41.0</td>\n",
       "      <td>7.0</td>\n",
       "      <td>59.0</td>\n",
       "      <td>...</td>\n",
       "      <td>599.0</td>\n",
       "      <td>15.0</td>\n",
       "      <td>67.15</td>\n",
       "      <td>Fail</td>\n",
       "      <td>0.52</td>\n",
       "      <td>Rail</td>\n",
       "      <td>Route_C</td>\n",
       "      <td>555.645</td>\n",
       "      <td>1365082.0</td>\n",
       "      <td>True</td>\n",
       "    </tr>\n",
       "    <tr>\n",
       "      <th>2</th>\n",
       "      <td>haircare</td>\n",
       "      <td>062000002</td>\n",
       "      <td>78270.0</td>\n",
       "      <td>10.0</td>\n",
       "      <td>399.0</td>\n",
       "      <td>0.0</td>\n",
       "      <td>Male</td>\n",
       "      <td>66.0</td>\n",
       "      <td>26.0</td>\n",
       "      <td>81.0</td>\n",
       "      <td>...</td>\n",
       "      <td>721.0</td>\n",
       "      <td>28.0</td>\n",
       "      <td>49.86</td>\n",
       "      <td>Unknown</td>\n",
       "      <td>1.27</td>\n",
       "      <td>Road</td>\n",
       "      <td>Route_A</td>\n",
       "      <td>996.280</td>\n",
       "      <td>0.0</td>\n",
       "      <td>False</td>\n",
       "    </tr>\n",
       "    <tr>\n",
       "      <th>3</th>\n",
       "      <td>haircare</td>\n",
       "      <td>062000003</td>\n",
       "      <td>51045.0</td>\n",
       "      <td>15.0</td>\n",
       "      <td>923.0</td>\n",
       "      <td>9417.67</td>\n",
       "      <td>Non-binary</td>\n",
       "      <td>25.0</td>\n",
       "      <td>26.0</td>\n",
       "      <td>50.5</td>\n",
       "      <td>...</td>\n",
       "      <td>547.0</td>\n",
       "      <td>12.0</td>\n",
       "      <td>54.2</td>\n",
       "      <td>Fail</td>\n",
       "      <td>2.50</td>\n",
       "      <td>Sea</td>\n",
       "      <td>Route_C</td>\n",
       "      <td>817.380</td>\n",
       "      <td>0.0</td>\n",
       "      <td>False</td>\n",
       "    </tr>\n",
       "    <tr>\n",
       "      <th>4</th>\n",
       "      <td>cosmetics</td>\n",
       "      <td>062000007</td>\n",
       "      <td>22790.0</td>\n",
       "      <td>17.0</td>\n",
       "      <td>715.0</td>\n",
       "      <td>8656.12</td>\n",
       "      <td>Non-binary</td>\n",
       "      <td>58.0</td>\n",
       "      <td>24.0</td>\n",
       "      <td>79.0</td>\n",
       "      <td>...</td>\n",
       "      <td>168.0</td>\n",
       "      <td>21.0</td>\n",
       "      <td>71.42</td>\n",
       "      <td>Pending</td>\n",
       "      <td>3.35</td>\n",
       "      <td>Rail</td>\n",
       "      <td>Route_B</td>\n",
       "      <td>407.650</td>\n",
       "      <td>0.0</td>\n",
       "      <td>False</td>\n",
       "    </tr>\n",
       "  </tbody>\n",
       "</table>\n",
       "<p>5 rows × 25 columns</p>\n",
       "</div>"
      ],
      "text/plain": [
       "  product_type        sku  estimated_price  availability  \\\n",
       "0    cosmetics  062000005           4350.0          98.0   \n",
       "1    cosmetics  062000004          31840.0          11.0   \n",
       "2     haircare  062000002          78270.0          10.0   \n",
       "3     haircare  062000003          51045.0          15.0   \n",
       "4    cosmetics  062000007          22790.0          17.0   \n",
       "\n",
       "   number_of_products_sold revenue_generated customer_demographics  \\\n",
       "0                    216.0           5513.64               Unknown   \n",
       "1                    407.0           1638.02               Unknown   \n",
       "2                    399.0               0.0                  Male   \n",
       "3                    923.0           9417.67            Non-binary   \n",
       "4                    715.0           8656.12            Non-binary   \n",
       "\n",
       "   stock_levels  lead_times  order_quantities  ...  production_volumes  \\\n",
       "0          28.0         5.0              16.0  ...               406.0   \n",
       "1          41.0         7.0              59.0  ...               599.0   \n",
       "2          66.0        26.0              81.0  ...               721.0   \n",
       "3          25.0        26.0              50.5  ...               547.0   \n",
       "4          58.0        24.0              79.0  ...               168.0   \n",
       "\n",
       "  manufacturing_lead_time manufacturing_costs inspection_results defect_rates  \\\n",
       "0                     9.0               98.49               Fail         3.27   \n",
       "1                    15.0               67.15               Fail         0.52   \n",
       "2                    28.0               49.86            Unknown         1.27   \n",
       "3                    12.0                54.2               Fail         2.50   \n",
       "4                    21.0               71.42            Pending         3.35   \n",
       "\n",
       "   transportation_modes   routes    costs  demurrage  demurrage_bin  \n",
       "0                  Rail  Route_A  329.950        0.0          False  \n",
       "1                  Rail  Route_C  555.645  1365082.0           True  \n",
       "2                  Road  Route_A  996.280        0.0          False  \n",
       "3                   Sea  Route_C  817.380        0.0          False  \n",
       "4                  Rail  Route_B  407.650        0.0          False  \n",
       "\n",
       "[5 rows x 25 columns]"
      ]
     },
     "execution_count": 156,
     "metadata": {},
     "output_type": "execute_result"
    }
   ],
   "source": [
    "supply_ch_df_cleaned.head()"
   ]
  },
  {
   "cell_type": "markdown",
   "metadata": {},
   "source": [
    "**DW-1**"
   ]
  },
  {
   "cell_type": "code",
   "execution_count": 157,
   "metadata": {},
   "outputs": [
    {
     "name": "stdout",
     "output_type": "stream",
     "text": [
      "Percentage of null values per column:\n",
      " product_type               0.0\n",
      "sku                        0.0\n",
      "estimated_price            0.0\n",
      "availability               0.0\n",
      "number_of_products_sold    0.0\n",
      "revenue_generated          0.0\n",
      "customer_demographics      0.0\n",
      "stock_levels               0.0\n",
      "lead_times                 0.0\n",
      "order_quantities           0.0\n",
      "shipping_times             0.0\n",
      "shipping_carriers          0.0\n",
      "shipping_costs             0.0\n",
      "supplier_name              0.0\n",
      "location                   0.0\n",
      "production_volumes         0.0\n",
      "manufacturing_lead_time    0.0\n",
      "manufacturing_costs        0.0\n",
      "inspection_results         0.0\n",
      "defect_rates               0.0\n",
      "transportation_modes       0.0\n",
      "routes                     0.0\n",
      "costs                      0.0\n",
      "demurrage                  0.0\n",
      "demurrage_bin              0.0\n",
      "dtype: float64\n",
      "Overall percentage of null values: 0.0%\n",
      "Number of empty rows: 0\n"
     ]
    }
   ],
   "source": [
    "# Calculate the percentage of null values for each column\n",
    "null_percentage_per_column = supply_ch_df_cleaned.isnull().mean() * 100\n",
    "print(\"Percentage of null values per column:\\n\", null_percentage_per_column)\n",
    "\n",
    "# Calculate the overall percentage of null values in the entire dataset\n",
    "total_null_values = supply_ch_df_cleaned.isnull().sum().sum()\n",
    "total_values = supply_ch_df_cleaned.size\n",
    "overall_null_percentage = (total_null_values / total_values) * 100\n",
    "print(f'Overall percentage of null values: {overall_null_percentage}%')\n",
    "\n",
    "# Check for empty rows\n",
    "rows_with_null = sum(supply_ch_df_cleaned.isnull().all(axis=1))\n",
    "print(f'Number of empty rows: {rows_with_null}')"
   ]
  },
  {
   "cell_type": "markdown",
   "metadata": {},
   "source": [
    "**DW-2**"
   ]
  },
  {
   "cell_type": "code",
   "execution_count": 158,
   "metadata": {},
   "outputs": [
    {
     "data": {
      "text/html": [
       "<div>\n",
       "<style scoped>\n",
       "    .dataframe tbody tr th:only-of-type {\n",
       "        vertical-align: middle;\n",
       "    }\n",
       "\n",
       "    .dataframe tbody tr th {\n",
       "        vertical-align: top;\n",
       "    }\n",
       "\n",
       "    .dataframe thead th {\n",
       "        text-align: right;\n",
       "    }\n",
       "</style>\n",
       "<table border=\"1\" class=\"dataframe\">\n",
       "  <thead>\n",
       "    <tr style=\"text-align: right;\">\n",
       "      <th></th>\n",
       "      <th>revenue_generated</th>\n",
       "      <th>shipping_costs</th>\n",
       "      <th>manufacturing_costs</th>\n",
       "    </tr>\n",
       "  </thead>\n",
       "  <tbody>\n",
       "    <tr>\n",
       "      <th>0</th>\n",
       "      <td>5513.64</td>\n",
       "      <td>320.0</td>\n",
       "      <td>98.49</td>\n",
       "    </tr>\n",
       "    <tr>\n",
       "      <th>1</th>\n",
       "      <td>1638.02</td>\n",
       "      <td>713.0</td>\n",
       "      <td>67.15</td>\n",
       "    </tr>\n",
       "    <tr>\n",
       "      <th>2</th>\n",
       "      <td>0.0</td>\n",
       "      <td>209.0</td>\n",
       "      <td>49.86</td>\n",
       "    </tr>\n",
       "    <tr>\n",
       "      <th>3</th>\n",
       "      <td>9417.67</td>\n",
       "      <td>202.0</td>\n",
       "      <td>54.2</td>\n",
       "    </tr>\n",
       "    <tr>\n",
       "      <th>4</th>\n",
       "      <td>8656.12</td>\n",
       "      <td>470.0</td>\n",
       "      <td>71.42</td>\n",
       "    </tr>\n",
       "  </tbody>\n",
       "</table>\n",
       "</div>"
      ],
      "text/plain": [
       "  revenue_generated shipping_costs manufacturing_costs\n",
       "0           5513.64          320.0               98.49\n",
       "1           1638.02          713.0               67.15\n",
       "2               0.0          209.0               49.86\n",
       "3           9417.67          202.0                54.2\n",
       "4           8656.12          470.0               71.42"
      ]
     },
     "execution_count": 158,
     "metadata": {},
     "output_type": "execute_result"
    }
   ],
   "source": [
    "supply_ch_df_cleaned[['revenue_generated', 'shipping_costs', 'manufacturing_costs']].head()"
   ]
  },
  {
   "cell_type": "markdown",
   "metadata": {},
   "source": [
    "**DW-3**"
   ]
  },
  {
   "cell_type": "code",
   "execution_count": 159,
   "metadata": {},
   "outputs": [
    {
     "data": {
      "text/plain": [
       "array(['Route_A', 'Route_C', 'Route_B', 'Unknown'], dtype=object)"
      ]
     },
     "execution_count": 159,
     "metadata": {},
     "output_type": "execute_result"
    }
   ],
   "source": [
    "# Displaying different representations of route instance\n",
    "supply_ch_df_cleaned['routes'].unique()"
   ]
  },
  {
   "cell_type": "markdown",
   "metadata": {},
   "source": [
    "---"
   ]
  },
  {
   "cell_type": "markdown",
   "metadata": {},
   "source": [
    "### Saving cleaned dataset for EDA ingestion"
   ]
  },
  {
   "cell_type": "code",
   "execution_count": 160,
   "metadata": {},
   "outputs": [
    {
     "name": "stdout",
     "output_type": "stream",
     "text": [
      "Concatenated file saved to s3://logimo-aligned/ship_cost_predictor/Sample_Data_Product_Cleaned.csv\n"
     ]
    }
   ],
   "source": [
    "# Save the concatenated DataFrame to S3\n",
    "output_bucket_name = 'logimo-aligned'\n",
    "output_prefix = f'{prefix}/Sample_Data_Product_Cleaned.csv'\n",
    "csv_buffer = StringIO()\n",
    "supply_ch_df_cleaned.to_csv(csv_buffer, index=False)\n",
    "\n",
    "# Upload the CSV to S3\n",
    "s3.put_object(Bucket=output_bucket_name, Key=output_prefix, Body=csv_buffer.getvalue())\n",
    "\n",
    "print(f\"Concatenated file saved to s3://{output_bucket_name}/{output_prefix}\")"
   ]
  },
  {
   "cell_type": "code",
   "execution_count": 161,
   "metadata": {},
   "outputs": [
    {
     "name": "stdout",
     "output_type": "stream",
     "text": [
      "<class 'pandas.core.frame.DataFrame'>\n",
      "Index: 9170 entries, 0 to 9999\n",
      "Data columns (total 25 columns):\n",
      " #   Column                   Non-Null Count  Dtype  \n",
      "---  ------                   --------------  -----  \n",
      " 0   product_type             9170 non-null   object \n",
      " 1   sku                      9170 non-null   object \n",
      " 2   estimated_price          9170 non-null   float64\n",
      " 3   availability             9170 non-null   float64\n",
      " 4   number_of_products_sold  9170 non-null   float64\n",
      " 5   revenue_generated        9170 non-null   object \n",
      " 6   customer_demographics    9170 non-null   object \n",
      " 7   stock_levels             9170 non-null   float64\n",
      " 8   lead_times               9170 non-null   float64\n",
      " 9   order_quantities         9170 non-null   float64\n",
      " 10  shipping_times           9170 non-null   float64\n",
      " 11  shipping_carriers        9170 non-null   object \n",
      " 12  shipping_costs           9170 non-null   object \n",
      " 13  supplier_name            9170 non-null   object \n",
      " 14  location                 9170 non-null   object \n",
      " 15  production_volumes       9170 non-null   float64\n",
      " 16  manufacturing_lead_time  9170 non-null   float64\n",
      " 17  manufacturing_costs      9170 non-null   object \n",
      " 18  inspection_results       9170 non-null   object \n",
      " 19  defect_rates             9170 non-null   float64\n",
      " 20  transportation_modes     9170 non-null   object \n",
      " 21  routes                   9170 non-null   object \n",
      " 22  costs                    9170 non-null   float64\n",
      " 23  demurrage                9170 non-null   float64\n",
      " 24  demurrage_bin            9170 non-null   bool   \n",
      "dtypes: bool(1), float64(12), object(12)\n",
      "memory usage: 1.8+ MB\n"
     ]
    }
   ],
   "source": [
    "supply_ch_df_cleaned.info()"
   ]
  },
  {
   "cell_type": "code",
   "execution_count": 170,
   "metadata": {},
   "outputs": [
    {
     "data": {
      "text/html": [
       "<div>\n",
       "<style scoped>\n",
       "    .dataframe tbody tr th:only-of-type {\n",
       "        vertical-align: middle;\n",
       "    }\n",
       "\n",
       "    .dataframe tbody tr th {\n",
       "        vertical-align: top;\n",
       "    }\n",
       "\n",
       "    .dataframe thead th {\n",
       "        text-align: right;\n",
       "    }\n",
       "</style>\n",
       "<table border=\"1\" class=\"dataframe\">\n",
       "  <thead>\n",
       "    <tr style=\"text-align: right;\">\n",
       "      <th></th>\n",
       "      <th>sku</th>\n",
       "      <th>lead_times</th>\n",
       "      <th>routes</th>\n",
       "      <th>location</th>\n",
       "      <th>demurrage</th>\n",
       "      <th>demurrage_bin</th>\n",
       "    </tr>\n",
       "  </thead>\n",
       "  <tbody>\n",
       "    <tr>\n",
       "      <th>0</th>\n",
       "      <td>062000005</td>\n",
       "      <td>5.0</td>\n",
       "      <td>Route_A</td>\n",
       "      <td>Kolkata</td>\n",
       "      <td>0.0</td>\n",
       "      <td>False</td>\n",
       "    </tr>\n",
       "    <tr>\n",
       "      <th>1</th>\n",
       "      <td>062000004</td>\n",
       "      <td>7.0</td>\n",
       "      <td>Route_C</td>\n",
       "      <td>Unknown</td>\n",
       "      <td>1365082.0</td>\n",
       "      <td>True</td>\n",
       "    </tr>\n",
       "    <tr>\n",
       "      <th>2</th>\n",
       "      <td>062000002</td>\n",
       "      <td>26.0</td>\n",
       "      <td>Route_A</td>\n",
       "      <td>Bangalore</td>\n",
       "      <td>0.0</td>\n",
       "      <td>False</td>\n",
       "    </tr>\n",
       "    <tr>\n",
       "      <th>3</th>\n",
       "      <td>062000003</td>\n",
       "      <td>26.0</td>\n",
       "      <td>Route_C</td>\n",
       "      <td>Bangalore</td>\n",
       "      <td>0.0</td>\n",
       "      <td>False</td>\n",
       "    </tr>\n",
       "    <tr>\n",
       "      <th>4</th>\n",
       "      <td>062000007</td>\n",
       "      <td>24.0</td>\n",
       "      <td>Route_B</td>\n",
       "      <td>Kolkata</td>\n",
       "      <td>0.0</td>\n",
       "      <td>False</td>\n",
       "    </tr>\n",
       "    <tr>\n",
       "      <th>...</th>\n",
       "      <td>...</td>\n",
       "      <td>...</td>\n",
       "      <td>...</td>\n",
       "      <td>...</td>\n",
       "      <td>...</td>\n",
       "      <td>...</td>\n",
       "    </tr>\n",
       "    <tr>\n",
       "      <th>9994</th>\n",
       "      <td>INDI040</td>\n",
       "      <td>26.0</td>\n",
       "      <td>Route_A</td>\n",
       "      <td>Mumbai</td>\n",
       "      <td>0.0</td>\n",
       "      <td>False</td>\n",
       "    </tr>\n",
       "    <tr>\n",
       "      <th>9995</th>\n",
       "      <td>INDI042</td>\n",
       "      <td>2.0</td>\n",
       "      <td>Route_B</td>\n",
       "      <td>Delhi</td>\n",
       "      <td>2094811.0</td>\n",
       "      <td>True</td>\n",
       "    </tr>\n",
       "    <tr>\n",
       "      <th>9997</th>\n",
       "      <td>INDI046</td>\n",
       "      <td>21.0</td>\n",
       "      <td>Route_B</td>\n",
       "      <td>Mumbai</td>\n",
       "      <td>0.0</td>\n",
       "      <td>False</td>\n",
       "    </tr>\n",
       "    <tr>\n",
       "      <th>9998</th>\n",
       "      <td>USLA1001</td>\n",
       "      <td>24.0</td>\n",
       "      <td>Route_A</td>\n",
       "      <td>Bangalore</td>\n",
       "      <td>741579.0</td>\n",
       "      <td>True</td>\n",
       "    </tr>\n",
       "    <tr>\n",
       "      <th>9999</th>\n",
       "      <td>CHNI013</td>\n",
       "      <td>21.0</td>\n",
       "      <td>Route_C</td>\n",
       "      <td>Bangalore</td>\n",
       "      <td>960097.0</td>\n",
       "      <td>True</td>\n",
       "    </tr>\n",
       "  </tbody>\n",
       "</table>\n",
       "<p>9170 rows × 6 columns</p>\n",
       "</div>"
      ],
      "text/plain": [
       "            sku  lead_times   routes   location  demurrage  demurrage_bin\n",
       "0     062000005         5.0  Route_A    Kolkata        0.0          False\n",
       "1     062000004         7.0  Route_C    Unknown  1365082.0           True\n",
       "2     062000002        26.0  Route_A  Bangalore        0.0          False\n",
       "3     062000003        26.0  Route_C  Bangalore        0.0          False\n",
       "4     062000007        24.0  Route_B    Kolkata        0.0          False\n",
       "...         ...         ...      ...        ...        ...            ...\n",
       "9994    INDI040        26.0  Route_A     Mumbai        0.0          False\n",
       "9995    INDI042         2.0  Route_B      Delhi  2094811.0           True\n",
       "9997    INDI046        21.0  Route_B     Mumbai        0.0          False\n",
       "9998   USLA1001        24.0  Route_A  Bangalore   741579.0           True\n",
       "9999    CHNI013        21.0  Route_C  Bangalore   960097.0           True\n",
       "\n",
       "[9170 rows x 6 columns]"
      ]
     },
     "execution_count": 170,
     "metadata": {},
     "output_type": "execute_result"
    }
   ],
   "source": [
    "supply_ch_df_cleaned[['sku', 'lead_times', 'routes', 'location', 'demurrage', 'demurrage_bin']]"
   ]
  }
 ],
 "metadata": {
  "kernelspec": {
   "display_name": "Python 3 (ipykernel)",
   "language": "python",
   "name": "python3"
  },
  "language_info": {
   "codemirror_mode": {
    "name": "ipython",
    "version": 3
   },
   "file_extension": ".py",
   "mimetype": "text/x-python",
   "name": "python",
   "nbconvert_exporter": "python",
   "pygments_lexer": "ipython3",
   "version": "3.11.4"
  }
 },
 "nbformat": 4,
 "nbformat_minor": 4
}
